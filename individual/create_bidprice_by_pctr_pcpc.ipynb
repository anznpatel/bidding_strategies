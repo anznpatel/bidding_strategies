{
 "cells": [
  {
   "cell_type": "code",
   "execution_count": 29,
   "metadata": {
    "collapsed": false
   },
   "outputs": [
    {
     "data": {
      "text/html": [
       "<pre>Finished parsing file D:\\kaggle\\webecon\\train.csv</pre>"
      ],
      "text/plain": [
       "Finished parsing file D:\\kaggle\\webecon\\train.csv"
      ]
     },
     "metadata": {},
     "output_type": "display_data"
    },
    {
     "data": {
      "text/html": [
       "<pre>Parsing completed. Parsed 100 lines in 2.80717 secs.</pre>"
      ],
      "text/plain": [
       "Parsing completed. Parsed 100 lines in 2.80717 secs."
      ]
     },
     "metadata": {},
     "output_type": "display_data"
    },
    {
     "name": "stdout",
     "output_type": "stream",
     "text": [
      "------------------------------------------------------\n",
      "Inferred types from first 100 line(s) of file as \n",
      "column_type_hints=[long,long,long,str,long,str,str,str,long,long,str,str,str,str,str,long,long,str,str,long,str,long,long,str,long,str]\n",
      "If parsing fails due to incorrect types, you can correct\n",
      "the inferred type list above and pass it to read_csv in\n",
      "the column_type_hints argument\n",
      "------------------------------------------------------\n"
     ]
    },
    {
     "data": {
      "text/html": [
       "<pre>Read 186256 lines. Lines per second: 70391</pre>"
      ],
      "text/plain": [
       "Read 186256 lines. Lines per second: 70391"
      ]
     },
     "metadata": {},
     "output_type": "display_data"
    },
    {
     "data": {
      "text/html": [
       "<pre>Read 372501 lines. Lines per second: 37293.5</pre>"
      ],
      "text/plain": [
       "Read 372501 lines. Lines per second: 37293.5"
      ]
     },
     "metadata": {},
     "output_type": "display_data"
    },
    {
     "data": {
      "text/html": [
       "<pre>Read 931199 lines. Lines per second: 57913.4</pre>"
      ],
      "text/plain": [
       "Read 931199 lines. Lines per second: 57913.4"
      ]
     },
     "metadata": {},
     "output_type": "display_data"
    },
    {
     "data": {
      "text/html": [
       "<pre>Read 1303583 lines. Lines per second: 61090.6</pre>"
      ],
      "text/plain": [
       "Read 1303583 lines. Lines per second: 61090.6"
      ]
     },
     "metadata": {},
     "output_type": "display_data"
    },
    {
     "data": {
      "text/html": [
       "<pre>Read 1676081 lines. Lines per second: 63436</pre>"
      ],
      "text/plain": [
       "Read 1676081 lines. Lines per second: 63436"
      ]
     },
     "metadata": {},
     "output_type": "display_data"
    },
    {
     "data": {
      "text/html": [
       "<pre>Read 1862264 lines. Lines per second: 56676.2</pre>"
      ],
      "text/plain": [
       "Read 1862264 lines. Lines per second: 56676.2"
      ]
     },
     "metadata": {},
     "output_type": "display_data"
    },
    {
     "data": {
      "text/html": [
       "<pre>Read 2234670 lines. Lines per second: 55423.7</pre>"
      ],
      "text/plain": [
       "Read 2234670 lines. Lines per second: 55423.7"
      ]
     },
     "metadata": {},
     "output_type": "display_data"
    },
    {
     "data": {
      "text/html": [
       "<pre>Read 2607028 lines. Lines per second: 56370.6</pre>"
      ],
      "text/plain": [
       "Read 2607028 lines. Lines per second: 56370.6"
      ]
     },
     "metadata": {},
     "output_type": "display_data"
    },
    {
     "data": {
      "text/html": [
       "<pre>Finished parsing file D:\\kaggle\\webecon\\train.csv</pre>"
      ],
      "text/plain": [
       "Finished parsing file D:\\kaggle\\webecon\\train.csv"
      ]
     },
     "metadata": {},
     "output_type": "display_data"
    },
    {
     "data": {
      "text/html": [
       "<pre>Parsing completed. Parsed 2697738 lines in 46.6166 secs.</pre>"
      ],
      "text/plain": [
       "Parsing completed. Parsed 2697738 lines in 46.6166 secs."
      ]
     },
     "metadata": {},
     "output_type": "display_data"
    },
    {
     "data": {
      "text/html": [
       "<pre>Finished parsing file D:\\kaggle\\webecon\\validation.csv</pre>"
      ],
      "text/plain": [
       "Finished parsing file D:\\kaggle\\webecon\\validation.csv"
      ]
     },
     "metadata": {},
     "output_type": "display_data"
    },
    {
     "data": {
      "text/html": [
       "<pre>Parsing completed. Parsed 100 lines in 8.5838 secs.</pre>"
      ],
      "text/plain": [
       "Parsing completed. Parsed 100 lines in 8.5838 secs."
      ]
     },
     "metadata": {},
     "output_type": "display_data"
    },
    {
     "name": "stdout",
     "output_type": "stream",
     "text": [
      "------------------------------------------------------\n",
      "Inferred types from first 100 line(s) of file as \n",
      "column_type_hints=[long,long,long,str,long,str,str,str,long,long,str,str,str,str,str,long,long,str,str,long,str,long,long,str,long,str]\n",
      "If parsing fails due to incorrect types, you can correct\n",
      "the inferred type list above and pass it to read_csv in\n",
      "the column_type_hints argument\n",
      "------------------------------------------------------\n"
     ]
    },
    {
     "data": {
      "text/html": [
       "<pre>Read 186177 lines. Lines per second: 46543.5</pre>"
      ],
      "text/plain": [
       "Read 186177 lines. Lines per second: 46543.5"
      ]
     },
     "metadata": {},
     "output_type": "display_data"
    },
    {
     "data": {
      "text/html": [
       "<pre>Finished parsing file D:\\kaggle\\webecon\\validation.csv</pre>"
      ],
      "text/plain": [
       "Finished parsing file D:\\kaggle\\webecon\\validation.csv"
      ]
     },
     "metadata": {},
     "output_type": "display_data"
    },
    {
     "data": {
      "text/html": [
       "<pre>Parsing completed. Parsed 299749 lines in 4.50024 secs.</pre>"
      ],
      "text/plain": [
       "Parsing completed. Parsed 299749 lines in 4.50024 secs."
      ]
     },
     "metadata": {},
     "output_type": "display_data"
    }
   ],
   "source": [
    "import graphlab as gl\n",
    "\n",
    "# Load the data\n",
    "train_data = gl.SFrame('train.csv')"
   ]
  },
  {
   "cell_type": "code",
   "execution_count": 30,
   "metadata": {
    "collapsed": false
   },
   "outputs": [
    {
     "data": {
      "text/html": [
       "<div style=\"max-height:1000px;max-width:1500px;overflow:auto;\"><table frame=\"box\" rules=\"cols\">\n",
       "    <tr>\n",
       "        <th style=\"padding-left: 1em; padding-right: 1em; text-align: center\">click</th>\n",
       "        <th style=\"padding-left: 1em; padding-right: 1em; text-align: center\">weekday</th>\n",
       "        <th style=\"padding-left: 1em; padding-right: 1em; text-align: center\">hour</th>\n",
       "        <th style=\"padding-left: 1em; padding-right: 1em; text-align: center\">bidid</th>\n",
       "        <th style=\"padding-left: 1em; padding-right: 1em; text-align: center\">logtype</th>\n",
       "        <th style=\"padding-left: 1em; padding-right: 1em; text-align: center\">userid</th>\n",
       "        <th style=\"padding-left: 1em; padding-right: 1em; text-align: center\">useragent</th>\n",
       "        <th style=\"padding-left: 1em; padding-right: 1em; text-align: center\">IP</th>\n",
       "    </tr>\n",
       "    <tr>\n",
       "        <td style=\"padding-left: 1em; padding-right: 1em; text-align: center; vertical-align: top\">0</td>\n",
       "        <td style=\"padding-left: 1em; padding-right: 1em; text-align: center; vertical-align: top\">1</td>\n",
       "        <td style=\"padding-left: 1em; padding-right: 1em; text-align: center; vertical-align: top\">14</td>\n",
       "        <td style=\"padding-left: 1em; padding-right: 1em; text-align: center; vertical-align: top\">fdfae6789b787899f1b875de3<br>ab8b21a ...</td>\n",
       "        <td style=\"padding-left: 1em; padding-right: 1em; text-align: center; vertical-align: top\">1</td>\n",
       "        <td style=\"padding-left: 1em; padding-right: 1em; text-align: center; vertical-align: top\">u_Vh1OPkFv3q5CFdR</td>\n",
       "        <td style=\"padding-left: 1em; padding-right: 1em; text-align: center; vertical-align: top\">windows_ie</td>\n",
       "        <td style=\"padding-left: 1em; padding-right: 1em; text-align: center; vertical-align: top\">180.107.112.*</td>\n",
       "    </tr>\n",
       "    <tr>\n",
       "        <td style=\"padding-left: 1em; padding-right: 1em; text-align: center; vertical-align: top\">0</td>\n",
       "        <td style=\"padding-left: 1em; padding-right: 1em; text-align: center; vertical-align: top\">2</td>\n",
       "        <td style=\"padding-left: 1em; padding-right: 1em; text-align: center; vertical-align: top\">20</td>\n",
       "        <td style=\"padding-left: 1em; padding-right: 1em; text-align: center; vertical-align: top\">372883147cdefbc495fb5082f<br>79dde9b ...</td>\n",
       "        <td style=\"padding-left: 1em; padding-right: 1em; text-align: center; vertical-align: top\">1</td>\n",
       "        <td style=\"padding-left: 1em; padding-right: 1em; text-align: center; vertical-align: top\">u_VhkRL6dCOTLsq-c</td>\n",
       "        <td style=\"padding-left: 1em; padding-right: 1em; text-align: center; vertical-align: top\">windows_chrome</td>\n",
       "        <td style=\"padding-left: 1em; padding-right: 1em; text-align: center; vertical-align: top\">125.120.199.*</td>\n",
       "    </tr>\n",
       "    <tr>\n",
       "        <td style=\"padding-left: 1em; padding-right: 1em; text-align: center; vertical-align: top\">0</td>\n",
       "        <td style=\"padding-left: 1em; padding-right: 1em; text-align: center; vertical-align: top\">5</td>\n",
       "        <td style=\"padding-left: 1em; padding-right: 1em; text-align: center; vertical-align: top\">9</td>\n",
       "        <td style=\"padding-left: 1em; padding-right: 1em; text-align: center; vertical-align: top\">2912cb5947e1fad450e2473c2<br>f61ef75 ...</td>\n",
       "        <td style=\"padding-left: 1em; padding-right: 1em; text-align: center; vertical-align: top\">1</td>\n",
       "        <td style=\"padding-left: 1em; padding-right: 1em; text-align: center; vertical-align: top\">u_VhkyORMrD8TP3GL</td>\n",
       "        <td style=\"padding-left: 1em; padding-right: 1em; text-align: center; vertical-align: top\">windows_ie</td>\n",
       "        <td style=\"padding-left: 1em; padding-right: 1em; text-align: center; vertical-align: top\">120.196.64.*</td>\n",
       "    </tr>\n",
       "    <tr>\n",
       "        <td style=\"padding-left: 1em; padding-right: 1em; text-align: center; vertical-align: top\">0</td>\n",
       "        <td style=\"padding-left: 1em; padding-right: 1em; text-align: center; vertical-align: top\">2</td>\n",
       "        <td style=\"padding-left: 1em; padding-right: 1em; text-align: center; vertical-align: top\">20</td>\n",
       "        <td style=\"padding-left: 1em; padding-right: 1em; text-align: center; vertical-align: top\">d7b7d61d1e50e1d27d210928d<br>28a9b61 ...</td>\n",
       "        <td style=\"padding-left: 1em; padding-right: 1em; text-align: center; vertical-align: top\">1</td>\n",
       "        <td style=\"padding-left: 1em; padding-right: 1em; text-align: center; vertical-align: top\">u_VhkyLRqVL2a4eWL</td>\n",
       "        <td style=\"padding-left: 1em; padding-right: 1em; text-align: center; vertical-align: top\">windows_ie</td>\n",
       "        <td style=\"padding-left: 1em; padding-right: 1em; text-align: center; vertical-align: top\">219.131.122.*</td>\n",
       "    </tr>\n",
       "    <tr>\n",
       "        <td style=\"padding-left: 1em; padding-right: 1em; text-align: center; vertical-align: top\">0</td>\n",
       "        <td style=\"padding-left: 1em; padding-right: 1em; text-align: center; vertical-align: top\">6</td>\n",
       "        <td style=\"padding-left: 1em; padding-right: 1em; text-align: center; vertical-align: top\">9</td>\n",
       "        <td style=\"padding-left: 1em; padding-right: 1em; text-align: center; vertical-align: top\">657d317dc4045bb79c2652abb<br>ea07530 ...</td>\n",
       "        <td style=\"padding-left: 1em; padding-right: 1em; text-align: center; vertical-align: top\">1</td>\n",
       "        <td style=\"padding-left: 1em; padding-right: 1em; text-align: center; vertical-align: top\">u_Vh1zOJuQOtTCBgL</td>\n",
       "        <td style=\"padding-left: 1em; padding-right: 1em; text-align: center; vertical-align: top\">windows_chrome</td>\n",
       "        <td style=\"padding-left: 1em; padding-right: 1em; text-align: center; vertical-align: top\">123.190.78.*</td>\n",
       "    </tr>\n",
       "    <tr>\n",
       "        <td style=\"padding-left: 1em; padding-right: 1em; text-align: center; vertical-align: top\">0</td>\n",
       "        <td style=\"padding-left: 1em; padding-right: 1em; text-align: center; vertical-align: top\">3</td>\n",
       "        <td style=\"padding-left: 1em; padding-right: 1em; text-align: center; vertical-align: top\">22</td>\n",
       "        <td style=\"padding-left: 1em; padding-right: 1em; text-align: center; vertical-align: top\">97948108bc353d0f3ef1e0142<br>afb0343 ...</td>\n",
       "        <td style=\"padding-left: 1em; padding-right: 1em; text-align: center; vertical-align: top\">1</td>\n",
       "        <td style=\"padding-left: 1em; padding-right: 1em; text-align: center; vertical-align: top\">u_Vh5h1p2SDvFsGMa</td>\n",
       "        <td style=\"padding-left: 1em; padding-right: 1em; text-align: center; vertical-align: top\">windows_ie</td>\n",
       "        <td style=\"padding-left: 1em; padding-right: 1em; text-align: center; vertical-align: top\">111.227.172.*</td>\n",
       "    </tr>\n",
       "    <tr>\n",
       "        <td style=\"padding-left: 1em; padding-right: 1em; text-align: center; vertical-align: top\">0</td>\n",
       "        <td style=\"padding-left: 1em; padding-right: 1em; text-align: center; vertical-align: top\">5</td>\n",
       "        <td style=\"padding-left: 1em; padding-right: 1em; text-align: center; vertical-align: top\">16</td>\n",
       "        <td style=\"padding-left: 1em; padding-right: 1em; text-align: center; vertical-align: top\">26739c29a9294f157930f3f5b<br>b7f5dc9 ...</td>\n",
       "        <td style=\"padding-left: 1em; padding-right: 1em; text-align: center; vertical-align: top\">1</td>\n",
       "        <td style=\"padding-left: 1em; padding-right: 1em; text-align: center; vertical-align: top\">u_D89EGm6FGGV</td>\n",
       "        <td style=\"padding-left: 1em; padding-right: 1em; text-align: center; vertical-align: top\">windows_chrome</td>\n",
       "        <td style=\"padding-left: 1em; padding-right: 1em; text-align: center; vertical-align: top\">27.46.201.*</td>\n",
       "    </tr>\n",
       "    <tr>\n",
       "        <td style=\"padding-left: 1em; padding-right: 1em; text-align: center; vertical-align: top\">0</td>\n",
       "        <td style=\"padding-left: 1em; padding-right: 1em; text-align: center; vertical-align: top\">0</td>\n",
       "        <td style=\"padding-left: 1em; padding-right: 1em; text-align: center; vertical-align: top\">21</td>\n",
       "        <td style=\"padding-left: 1em; padding-right: 1em; text-align: center; vertical-align: top\">404f5a6f3a1dde4ae1811646c<br>065df3c ...</td>\n",
       "        <td style=\"padding-left: 1em; padding-right: 1em; text-align: center; vertical-align: top\">1</td>\n",
       "        <td style=\"padding-left: 1em; padding-right: 1em; text-align: center; vertical-align: top\">u_D9MLsHCazAr</td>\n",
       "        <td style=\"padding-left: 1em; padding-right: 1em; text-align: center; vertical-align: top\">windows_chrome</td>\n",
       "        <td style=\"padding-left: 1em; padding-right: 1em; text-align: center; vertical-align: top\">112.92.88.*</td>\n",
       "    </tr>\n",
       "    <tr>\n",
       "        <td style=\"padding-left: 1em; padding-right: 1em; text-align: center; vertical-align: top\">0</td>\n",
       "        <td style=\"padding-left: 1em; padding-right: 1em; text-align: center; vertical-align: top\">4</td>\n",
       "        <td style=\"padding-left: 1em; padding-right: 1em; text-align: center; vertical-align: top\">17</td>\n",
       "        <td style=\"padding-left: 1em; padding-right: 1em; text-align: center; vertical-align: top\">39095668ca6fd532b7c6d3dfa<br>d538997 ...</td>\n",
       "        <td style=\"padding-left: 1em; padding-right: 1em; text-align: center; vertical-align: top\">1</td>\n",
       "        <td style=\"padding-left: 1em; padding-right: 1em; text-align: center; vertical-align: top\">u_Vh5_LAT0322yFOl</td>\n",
       "        <td style=\"padding-left: 1em; padding-right: 1em; text-align: center; vertical-align: top\">windows_ie</td>\n",
       "        <td style=\"padding-left: 1em; padding-right: 1em; text-align: center; vertical-align: top\">218.77.12.*</td>\n",
       "    </tr>\n",
       "    <tr>\n",
       "        <td style=\"padding-left: 1em; padding-right: 1em; text-align: center; vertical-align: top\">0</td>\n",
       "        <td style=\"padding-left: 1em; padding-right: 1em; text-align: center; vertical-align: top\">0</td>\n",
       "        <td style=\"padding-left: 1em; padding-right: 1em; text-align: center; vertical-align: top\">17</td>\n",
       "        <td style=\"padding-left: 1em; padding-right: 1em; text-align: center; vertical-align: top\">dd3e2fd0370f672e6cbc55976<br>73f72e1 ...</td>\n",
       "        <td style=\"padding-left: 1em; padding-right: 1em; text-align: center; vertical-align: top\">1</td>\n",
       "        <td style=\"padding-left: 1em; padding-right: 1em; text-align: center; vertical-align: top\">u_VhTnL7d7PtB8XWC</td>\n",
       "        <td style=\"padding-left: 1em; padding-right: 1em; text-align: center; vertical-align: top\">windows_ie</td>\n",
       "        <td style=\"padding-left: 1em; padding-right: 1em; text-align: center; vertical-align: top\">122.137.146.*</td>\n",
       "    </tr>\n",
       "</table>\n",
       "<table frame=\"box\" rules=\"cols\">\n",
       "    <tr>\n",
       "        <th style=\"padding-left: 1em; padding-right: 1em; text-align: center\">region</th>\n",
       "        <th style=\"padding-left: 1em; padding-right: 1em; text-align: center\">city</th>\n",
       "        <th style=\"padding-left: 1em; padding-right: 1em; text-align: center\">adexchange</th>\n",
       "        <th style=\"padding-left: 1em; padding-right: 1em; text-align: center\">domain</th>\n",
       "        <th style=\"padding-left: 1em; padding-right: 1em; text-align: center\">url</th>\n",
       "        <th style=\"padding-left: 1em; padding-right: 1em; text-align: center\">urlid</th>\n",
       "        <th style=\"padding-left: 1em; padding-right: 1em; text-align: center\">slotid</th>\n",
       "    </tr>\n",
       "    <tr>\n",
       "        <td style=\"padding-left: 1em; padding-right: 1em; text-align: center; vertical-align: top\">80</td>\n",
       "        <td style=\"padding-left: 1em; padding-right: 1em; text-align: center; vertical-align: top\">85</td>\n",
       "        <td style=\"padding-left: 1em; padding-right: 1em; text-align: center; vertical-align: top\">2</td>\n",
       "        <td style=\"padding-left: 1em; padding-right: 1em; text-align: center; vertical-align: top\">trqRTuToMTNUjM9r5rMi</td>\n",
       "        <td style=\"padding-left: 1em; padding-right: 1em; text-align: center; vertical-align: top\">d48a96ab59d7ad741a48e781d<br>e44efeb ...</td>\n",
       "        <td style=\"padding-left: 1em; padding-right: 1em; text-align: center; vertical-align: top\">null</td>\n",
       "        <td style=\"padding-left: 1em; padding-right: 1em; text-align: center; vertical-align: top\">433287550</td>\n",
       "    </tr>\n",
       "    <tr>\n",
       "        <td style=\"padding-left: 1em; padding-right: 1em; text-align: center; vertical-align: top\">94</td>\n",
       "        <td style=\"padding-left: 1em; padding-right: 1em; text-align: center; vertical-align: top\">95</td>\n",
       "        <td style=\"padding-left: 1em; padding-right: 1em; text-align: center; vertical-align: top\">2</td>\n",
       "        <td style=\"padding-left: 1em; padding-right: 1em; text-align: center; vertical-align: top\">trqRTv14MqTR1m58uG</td>\n",
       "        <td style=\"padding-left: 1em; padding-right: 1em; text-align: center; vertical-align: top\">313e110c149d24b3236165d30<br>879c595 ...</td>\n",
       "        <td style=\"padding-left: 1em; padding-right: 1em; text-align: center; vertical-align: top\">null</td>\n",
       "        <td style=\"padding-left: 1em; padding-right: 1em; text-align: center; vertical-align: top\">2264242698</td>\n",
       "    </tr>\n",
       "    <tr>\n",
       "        <td style=\"padding-left: 1em; padding-right: 1em; text-align: center; vertical-align: top\">216</td>\n",
       "        <td style=\"padding-left: 1em; padding-right: 1em; text-align: center; vertical-align: top\">217</td>\n",
       "        <td style=\"padding-left: 1em; padding-right: 1em; text-align: center; vertical-align: top\">1</td>\n",
       "        <td style=\"padding-left: 1em; padding-right: 1em; text-align: center; vertical-align: top\">trqRTJTxX5scg4</td>\n",
       "        <td style=\"padding-left: 1em; padding-right: 1em; text-align: center; vertical-align: top\">845b72208c27b993daa11c810<br>4449e22 ...</td>\n",
       "        <td style=\"padding-left: 1em; padding-right: 1em; text-align: center; vertical-align: top\">null</td>\n",
       "        <td style=\"padding-left: 1em; padding-right: 1em; text-align: center; vertical-align: top\">mm_40135906_3486753_11388<br>735 ...</td>\n",
       "    </tr>\n",
       "    <tr>\n",
       "        <td style=\"padding-left: 1em; padding-right: 1em; text-align: center; vertical-align: top\">216</td>\n",
       "        <td style=\"padding-left: 1em; padding-right: 1em; text-align: center; vertical-align: top\">221</td>\n",
       "        <td style=\"padding-left: 1em; padding-right: 1em; text-align: center; vertical-align: top\">2</td>\n",
       "        <td style=\"padding-left: 1em; padding-right: 1em; text-align: center; vertical-align: top\">trqRTuMvjTN7X9KbuKz</td>\n",
       "        <td style=\"padding-left: 1em; padding-right: 1em; text-align: center; vertical-align: top\">ea6709db2703ae8698755629f<br>1f9df32 ...</td>\n",
       "        <td style=\"padding-left: 1em; padding-right: 1em; text-align: center; vertical-align: top\">null</td>\n",
       "        <td style=\"padding-left: 1em; padding-right: 1em; text-align: center; vertical-align: top\">2536830969</td>\n",
       "    </tr>\n",
       "    <tr>\n",
       "        <td style=\"padding-left: 1em; padding-right: 1em; text-align: center; vertical-align: top\">40</td>\n",
       "        <td style=\"padding-left: 1em; padding-right: 1em; text-align: center; vertical-align: top\">48</td>\n",
       "        <td style=\"padding-left: 1em; padding-right: 1em; text-align: center; vertical-align: top\">1</td>\n",
       "        <td style=\"padding-left: 1em; padding-right: 1em; text-align: center; vertical-align: top\">trqRTu1YP5scFsf</td>\n",
       "        <td style=\"padding-left: 1em; padding-right: 1em; text-align: center; vertical-align: top\">b7b8e74eefbdd5cc1a9f0acb2<br>e5c0d6c ...</td>\n",
       "        <td style=\"padding-left: 1em; padding-right: 1em; text-align: center; vertical-align: top\">null</td>\n",
       "        <td style=\"padding-left: 1em; padding-right: 1em; text-align: center; vertical-align: top\">mm_10075660_3500949_11453<br>278 ...</td>\n",
       "    </tr>\n",
       "    <tr>\n",
       "        <td style=\"padding-left: 1em; padding-right: 1em; text-align: center; vertical-align: top\">3</td>\n",
       "        <td style=\"padding-left: 1em; padding-right: 1em; text-align: center; vertical-align: top\">6</td>\n",
       "        <td style=\"padding-left: 1em; padding-right: 1em; text-align: center; vertical-align: top\">1</td>\n",
       "        <td style=\"padding-left: 1em; padding-right: 1em; text-align: center; vertical-align: top\">trqRTJubX5scFsf</td>\n",
       "        <td style=\"padding-left: 1em; padding-right: 1em; text-align: center; vertical-align: top\">37bdc8299d3b42e6f04ccf4fc<br>a64bacc ...</td>\n",
       "        <td style=\"padding-left: 1em; padding-right: 1em; text-align: center; vertical-align: top\">null</td>\n",
       "        <td style=\"padding-left: 1em; padding-right: 1em; text-align: center; vertical-align: top\">mm_14539978_2071324_83552<br>58 ...</td>\n",
       "    </tr>\n",
       "    <tr>\n",
       "        <td style=\"padding-left: 1em; padding-right: 1em; text-align: center; vertical-align: top\">216</td>\n",
       "        <td style=\"padding-left: 1em; padding-right: 1em; text-align: center; vertical-align: top\">217</td>\n",
       "        <td style=\"padding-left: 1em; padding-right: 1em; text-align: center; vertical-align: top\">2</td>\n",
       "        <td style=\"padding-left: 1em; padding-right: 1em; text-align: center; vertical-align: top\">333a4ab5e4ae8e17d7ca86237<br>721ba7a ...</td>\n",
       "        <td style=\"padding-left: 1em; padding-right: 1em; text-align: center; vertical-align: top\">4bf89e8bc0f9e55e830508744<br>1b5276c ...</td>\n",
       "        <td style=\"padding-left: 1em; padding-right: 1em; text-align: center; vertical-align: top\">null</td>\n",
       "        <td style=\"padding-left: 1em; padding-right: 1em; text-align: center; vertical-align: top\">2932492844</td>\n",
       "    </tr>\n",
       "    <tr>\n",
       "        <td style=\"padding-left: 1em; padding-right: 1em; text-align: center; vertical-align: top\">216</td>\n",
       "        <td style=\"padding-left: 1em; padding-right: 1em; text-align: center; vertical-align: top\">220</td>\n",
       "        <td style=\"padding-left: 1em; padding-right: 1em; text-align: center; vertical-align: top\">4</td>\n",
       "        <td style=\"padding-left: 1em; padding-right: 1em; text-align: center; vertical-align: top\">1164f4caea2d39bc9dcc8dd22<br>bb0e5c8 ...</td>\n",
       "        <td style=\"padding-left: 1em; padding-right: 1em; text-align: center; vertical-align: top\">37a58da844768798ec368daff<br>8a5e94b ...</td>\n",
       "        <td style=\"padding-left: 1em; padding-right: 1em; text-align: center; vertical-align: top\">null</td>\n",
       "        <td style=\"padding-left: 1em; padding-right: 1em; text-align: center; vertical-align: top\">9223372032560960619</td>\n",
       "    </tr>\n",
       "    <tr>\n",
       "        <td style=\"padding-left: 1em; padding-right: 1em; text-align: center; vertical-align: top\">201</td>\n",
       "        <td style=\"padding-left: 1em; padding-right: 1em; text-align: center; vertical-align: top\">213</td>\n",
       "        <td style=\"padding-left: 1em; padding-right: 1em; text-align: center; vertical-align: top\">2</td>\n",
       "        <td style=\"padding-left: 1em; padding-right: 1em; text-align: center; vertical-align: top\">trqRTv1EXQuYgMKE5SqW</td>\n",
       "        <td style=\"padding-left: 1em; padding-right: 1em; text-align: center; vertical-align: top\">da7852090bb61af96fbcd2989<br>8929149 ...</td>\n",
       "        <td style=\"padding-left: 1em; padding-right: 1em; text-align: center; vertical-align: top\">null</td>\n",
       "        <td style=\"padding-left: 1em; padding-right: 1em; text-align: center; vertical-align: top\">3151450371</td>\n",
       "    </tr>\n",
       "    <tr>\n",
       "        <td style=\"padding-left: 1em; padding-right: 1em; text-align: center; vertical-align: top\">55</td>\n",
       "        <td style=\"padding-left: 1em; padding-right: 1em; text-align: center; vertical-align: top\">57</td>\n",
       "        <td style=\"padding-left: 1em; padding-right: 1em; text-align: center; vertical-align: top\">3</td>\n",
       "        <td style=\"padding-left: 1em; padding-right: 1em; text-align: center; vertical-align: top\">5F1RQS9rg5scFsf</td>\n",
       "        <td style=\"padding-left: 1em; padding-right: 1em; text-align: center; vertical-align: top\">19422c57c90579925952ed859<br>eaf3f4d ...</td>\n",
       "        <td style=\"padding-left: 1em; padding-right: 1em; text-align: center; vertical-align: top\">null</td>\n",
       "        <td style=\"padding-left: 1em; padding-right: 1em; text-align: center; vertical-align: top\">News_F_bottom_Width</td>\n",
       "    </tr>\n",
       "</table>\n",
       "<table frame=\"box\" rules=\"cols\">\n",
       "    <tr>\n",
       "        <th style=\"padding-left: 1em; padding-right: 1em; text-align: center\">slotwidth</th>\n",
       "        <th style=\"padding-left: 1em; padding-right: 1em; text-align: center\">slotheight</th>\n",
       "        <th style=\"padding-left: 1em; padding-right: 1em; text-align: center\">slotvisibility</th>\n",
       "        <th style=\"padding-left: 1em; padding-right: 1em; text-align: center\">slotformat</th>\n",
       "        <th style=\"padding-left: 1em; padding-right: 1em; text-align: center\">slotprice</th>\n",
       "        <th style=\"padding-left: 1em; padding-right: 1em; text-align: center\">creative</th>\n",
       "        <th style=\"padding-left: 1em; padding-right: 1em; text-align: center\">bidprice</th>\n",
       "        <th style=\"padding-left: 1em; padding-right: 1em; text-align: center\">payprice</th>\n",
       "    </tr>\n",
       "    <tr>\n",
       "        <td style=\"padding-left: 1em; padding-right: 1em; text-align: center; vertical-align: top\">468</td>\n",
       "        <td style=\"padding-left: 1em; padding-right: 1em; text-align: center; vertical-align: top\">60</td>\n",
       "        <td style=\"padding-left: 1em; padding-right: 1em; text-align: center; vertical-align: top\">1</td>\n",
       "        <td style=\"padding-left: 1em; padding-right: 1em; text-align: center; vertical-align: top\">0</td>\n",
       "        <td style=\"padding-left: 1em; padding-right: 1em; text-align: center; vertical-align: top\">5</td>\n",
       "        <td style=\"padding-left: 1em; padding-right: 1em; text-align: center; vertical-align: top\">612599432d200b093719dd1f3<br>72f7a30 ...</td>\n",
       "        <td style=\"padding-left: 1em; padding-right: 1em; text-align: center; vertical-align: top\">300</td>\n",
       "        <td style=\"padding-left: 1em; padding-right: 1em; text-align: center; vertical-align: top\">54</td>\n",
       "    </tr>\n",
       "    <tr>\n",
       "        <td style=\"padding-left: 1em; padding-right: 1em; text-align: center; vertical-align: top\">250</td>\n",
       "        <td style=\"padding-left: 1em; padding-right: 1em; text-align: center; vertical-align: top\">250</td>\n",
       "        <td style=\"padding-left: 1em; padding-right: 1em; text-align: center; vertical-align: top\">1</td>\n",
       "        <td style=\"padding-left: 1em; padding-right: 1em; text-align: center; vertical-align: top\">0</td>\n",
       "        <td style=\"padding-left: 1em; padding-right: 1em; text-align: center; vertical-align: top\">5</td>\n",
       "        <td style=\"padding-left: 1em; padding-right: 1em; text-align: center; vertical-align: top\">8dff45ed862a740986dbe688a<br>afee7e5 ...</td>\n",
       "        <td style=\"padding-left: 1em; padding-right: 1em; text-align: center; vertical-align: top\">249</td>\n",
       "        <td style=\"padding-left: 1em; padding-right: 1em; text-align: center; vertical-align: top\">42</td>\n",
       "    </tr>\n",
       "    <tr>\n",
       "        <td style=\"padding-left: 1em; padding-right: 1em; text-align: center; vertical-align: top\">336</td>\n",
       "        <td style=\"padding-left: 1em; padding-right: 1em; text-align: center; vertical-align: top\">280</td>\n",
       "        <td style=\"padding-left: 1em; padding-right: 1em; text-align: center; vertical-align: top\">0</td>\n",
       "        <td style=\"padding-left: 1em; padding-right: 1em; text-align: center; vertical-align: top\">1</td>\n",
       "        <td style=\"padding-left: 1em; padding-right: 1em; text-align: center; vertical-align: top\">0</td>\n",
       "        <td style=\"padding-left: 1em; padding-right: 1em; text-align: center; vertical-align: top\">77819d3e0b3467fe5c7b16d68<br>ad923a1 ...</td>\n",
       "        <td style=\"padding-left: 1em; padding-right: 1em; text-align: center; vertical-align: top\">300</td>\n",
       "        <td style=\"padding-left: 1em; padding-right: 1em; text-align: center; vertical-align: top\">76</td>\n",
       "    </tr>\n",
       "    <tr>\n",
       "        <td style=\"padding-left: 1em; padding-right: 1em; text-align: center; vertical-align: top\">728</td>\n",
       "        <td style=\"padding-left: 1em; padding-right: 1em; text-align: center; vertical-align: top\">90</td>\n",
       "        <td style=\"padding-left: 1em; padding-right: 1em; text-align: center; vertical-align: top\">0</td>\n",
       "        <td style=\"padding-left: 1em; padding-right: 1em; text-align: center; vertical-align: top\">0</td>\n",
       "        <td style=\"padding-left: 1em; padding-right: 1em; text-align: center; vertical-align: top\">162</td>\n",
       "        <td style=\"padding-left: 1em; padding-right: 1em; text-align: center; vertical-align: top\">7184c9560e68e977187e67e45<br>a4f3198 ...</td>\n",
       "        <td style=\"padding-left: 1em; padding-right: 1em; text-align: center; vertical-align: top\">238</td>\n",
       "        <td style=\"padding-left: 1em; padding-right: 1em; text-align: center; vertical-align: top\">182</td>\n",
       "    </tr>\n",
       "    <tr>\n",
       "        <td style=\"padding-left: 1em; padding-right: 1em; text-align: center; vertical-align: top\">950</td>\n",
       "        <td style=\"padding-left: 1em; padding-right: 1em; text-align: center; vertical-align: top\">90</td>\n",
       "        <td style=\"padding-left: 1em; padding-right: 1em; text-align: center; vertical-align: top\">0</td>\n",
       "        <td style=\"padding-left: 1em; padding-right: 1em; text-align: center; vertical-align: top\">1</td>\n",
       "        <td style=\"padding-left: 1em; padding-right: 1em; text-align: center; vertical-align: top\">0</td>\n",
       "        <td style=\"padding-left: 1em; padding-right: 1em; text-align: center; vertical-align: top\">c938195f9e404b4f38c7e71bf<br>50263e5 ...</td>\n",
       "        <td style=\"padding-left: 1em; padding-right: 1em; text-align: center; vertical-align: top\">238</td>\n",
       "        <td style=\"padding-left: 1em; padding-right: 1em; text-align: center; vertical-align: top\">34</td>\n",
       "    </tr>\n",
       "    <tr>\n",
       "        <td style=\"padding-left: 1em; padding-right: 1em; text-align: center; vertical-align: top\">300</td>\n",
       "        <td style=\"padding-left: 1em; padding-right: 1em; text-align: center; vertical-align: top\">250</td>\n",
       "        <td style=\"padding-left: 1em; padding-right: 1em; text-align: center; vertical-align: top\">1</td>\n",
       "        <td style=\"padding-left: 1em; padding-right: 1em; text-align: center; vertical-align: top\">1</td>\n",
       "        <td style=\"padding-left: 1em; padding-right: 1em; text-align: center; vertical-align: top\">0</td>\n",
       "        <td style=\"padding-left: 1em; padding-right: 1em; text-align: center; vertical-align: top\">911b2d84826786018761e8c0b<br>0a3a60c ...</td>\n",
       "        <td style=\"padding-left: 1em; padding-right: 1em; text-align: center; vertical-align: top\">227</td>\n",
       "        <td style=\"padding-left: 1em; padding-right: 1em; text-align: center; vertical-align: top\">99</td>\n",
       "    </tr>\n",
       "    <tr>\n",
       "        <td style=\"padding-left: 1em; padding-right: 1em; text-align: center; vertical-align: top\">728</td>\n",
       "        <td style=\"padding-left: 1em; padding-right: 1em; text-align: center; vertical-align: top\">90</td>\n",
       "        <td style=\"padding-left: 1em; padding-right: 1em; text-align: center; vertical-align: top\">OtherView</td>\n",
       "        <td style=\"padding-left: 1em; padding-right: 1em; text-align: center; vertical-align: top\">Na</td>\n",
       "        <td style=\"padding-left: 1em; padding-right: 1em; text-align: center; vertical-align: top\">5</td>\n",
       "        <td style=\"padding-left: 1em; padding-right: 1em; text-align: center; vertical-align: top\">7330</td>\n",
       "        <td style=\"padding-left: 1em; padding-right: 1em; text-align: center; vertical-align: top\">277</td>\n",
       "        <td style=\"padding-left: 1em; padding-right: 1em; text-align: center; vertical-align: top\">61</td>\n",
       "    </tr>\n",
       "    <tr>\n",
       "        <td style=\"padding-left: 1em; padding-right: 1em; text-align: center; vertical-align: top\">960</td>\n",
       "        <td style=\"padding-left: 1em; padding-right: 1em; text-align: center; vertical-align: top\">90</td>\n",
       "        <td style=\"padding-left: 1em; padding-right: 1em; text-align: center; vertical-align: top\">FirstView</td>\n",
       "        <td style=\"padding-left: 1em; padding-right: 1em; text-align: center; vertical-align: top\">Na</td>\n",
       "        <td style=\"padding-left: 1em; padding-right: 1em; text-align: center; vertical-align: top\">0</td>\n",
       "        <td style=\"padding-left: 1em; padding-right: 1em; text-align: center; vertical-align: top\">10717</td>\n",
       "        <td style=\"padding-left: 1em; padding-right: 1em; text-align: center; vertical-align: top\">294</td>\n",
       "        <td style=\"padding-left: 1em; padding-right: 1em; text-align: center; vertical-align: top\">39</td>\n",
       "    </tr>\n",
       "    <tr>\n",
       "        <td style=\"padding-left: 1em; padding-right: 1em; text-align: center; vertical-align: top\">336</td>\n",
       "        <td style=\"padding-left: 1em; padding-right: 1em; text-align: center; vertical-align: top\">280</td>\n",
       "        <td style=\"padding-left: 1em; padding-right: 1em; text-align: center; vertical-align: top\">2</td>\n",
       "        <td style=\"padding-left: 1em; padding-right: 1em; text-align: center; vertical-align: top\">0</td>\n",
       "        <td style=\"padding-left: 1em; padding-right: 1em; text-align: center; vertical-align: top\">5</td>\n",
       "        <td style=\"padding-left: 1em; padding-right: 1em; text-align: center; vertical-align: top\">ff5123fb9333ca095034c62fd<br>aaf51aa ...</td>\n",
       "        <td style=\"padding-left: 1em; padding-right: 1em; text-align: center; vertical-align: top\">300</td>\n",
       "        <td style=\"padding-left: 1em; padding-right: 1em; text-align: center; vertical-align: top\">111</td>\n",
       "    </tr>\n",
       "    <tr>\n",
       "        <td style=\"padding-left: 1em; padding-right: 1em; text-align: center; vertical-align: top\">1000</td>\n",
       "        <td style=\"padding-left: 1em; padding-right: 1em; text-align: center; vertical-align: top\">90</td>\n",
       "        <td style=\"padding-left: 1em; padding-right: 1em; text-align: center; vertical-align: top\">0</td>\n",
       "        <td style=\"padding-left: 1em; padding-right: 1em; text-align: center; vertical-align: top\">0</td>\n",
       "        <td style=\"padding-left: 1em; padding-right: 1em; text-align: center; vertical-align: top\">31</td>\n",
       "        <td style=\"padding-left: 1em; padding-right: 1em; text-align: center; vertical-align: top\">832b91d59d0cb573143165320<br>4a76c0e ...</td>\n",
       "        <td style=\"padding-left: 1em; padding-right: 1em; text-align: center; vertical-align: top\">300</td>\n",
       "        <td style=\"padding-left: 1em; padding-right: 1em; text-align: center; vertical-align: top\">30</td>\n",
       "    </tr>\n",
       "</table>\n",
       "<table frame=\"box\" rules=\"cols\">\n",
       "    <tr>\n",
       "        <th style=\"padding-left: 1em; padding-right: 1em; text-align: center\">keypage</th>\n",
       "        <th style=\"padding-left: 1em; padding-right: 1em; text-align: center\">advertiser</th>\n",
       "        <th style=\"padding-left: 1em; padding-right: 1em; text-align: center\">usertag</th>\n",
       "    </tr>\n",
       "    <tr>\n",
       "        <td style=\"padding-left: 1em; padding-right: 1em; text-align: center; vertical-align: top\">bebefa5efe83beee17a3d245e<br>7c5085b ...</td>\n",
       "        <td style=\"padding-left: 1em; padding-right: 1em; text-align: center; vertical-align: top\">1458</td>\n",
       "        <td style=\"padding-left: 1em; padding-right: 1em; text-align: center; vertical-align: top\">13866,10063</td>\n",
       "    </tr>\n",
       "    <tr>\n",
       "        <td style=\"padding-left: 1em; padding-right: 1em; text-align: center; vertical-align: top\">15b749127478946f161a54dc0<br>dad27c8 ...</td>\n",
       "        <td style=\"padding-left: 1em; padding-right: 1em; text-align: center; vertical-align: top\">3476</td>\n",
       "        <td style=\"padding-left: 1em; padding-right: 1em; text-align: center; vertical-align: top\">10063,10111</td>\n",
       "    </tr>\n",
       "    <tr>\n",
       "        <td style=\"padding-left: 1em; padding-right: 1em; text-align: center; vertical-align: top\">bebefa5efe83beee17a3d245e<br>7c5085b ...</td>\n",
       "        <td style=\"padding-left: 1em; padding-right: 1em; text-align: center; vertical-align: top\">1458</td>\n",
       "        <td style=\"padding-left: 1em; padding-right: 1em; text-align: center; vertical-align: top\">10063</td>\n",
       "    </tr>\n",
       "    <tr>\n",
       "        <td style=\"padding-left: 1em; padding-right: 1em; text-align: center; vertical-align: top\">0f951a030abdaedd733ee8d11<br>4ce2944 ...</td>\n",
       "        <td style=\"padding-left: 1em; padding-right: 1em; text-align: center; vertical-align: top\">3427</td>\n",
       "        <td style=\"padding-left: 1em; padding-right: 1em; text-align: center; vertical-align: top\">10077,10111</td>\n",
       "    </tr>\n",
       "    <tr>\n",
       "        <td style=\"padding-left: 1em; padding-right: 1em; text-align: center; vertical-align: top\">a3becb967c015e9acb5e72f22<br>b100ef8 ...</td>\n",
       "        <td style=\"padding-left: 1em; padding-right: 1em; text-align: center; vertical-align: top\">3476</td>\n",
       "        <td style=\"padding-left: 1em; padding-right: 1em; text-align: center; vertical-align: top\">10031,13042,10006,10057,1<br>3866,10063,14273,1005 ...</td>\n",
       "    </tr>\n",
       "    <tr>\n",
       "        <td style=\"padding-left: 1em; padding-right: 1em; text-align: center; vertical-align: top\">d29e59bf0f7f8243858b8183f<br>14d4412 ...</td>\n",
       "        <td style=\"padding-left: 1em; padding-right: 1em; text-align: center; vertical-align: top\">3358</td>\n",
       "        <td style=\"padding-left: 1em; padding-right: 1em; text-align: center; vertical-align: top\">10063</td>\n",
       "    </tr>\n",
       "    <tr>\n",
       "        <td style=\"padding-left: 1em; padding-right: 1em; text-align: center; vertical-align: top\">null</td>\n",
       "        <td style=\"padding-left: 1em; padding-right: 1em; text-align: center; vertical-align: top\">2259</td>\n",
       "        <td style=\"padding-left: 1em; padding-right: 1em; text-align: center; vertical-align: top\">13866,10006,10111,10063</td>\n",
       "    </tr>\n",
       "    <tr>\n",
       "        <td style=\"padding-left: 1em; padding-right: 1em; text-align: center; vertical-align: top\">null</td>\n",
       "        <td style=\"padding-left: 1em; padding-right: 1em; text-align: center; vertical-align: top\">2821</td>\n",
       "        <td style=\"padding-left: 1em; padding-right: 1em; text-align: center; vertical-align: top\">13042,10024,10006,10110,1<br>0031,10063 ...</td>\n",
       "    </tr>\n",
       "    <tr>\n",
       "        <td style=\"padding-left: 1em; padding-right: 1em; text-align: center; vertical-align: top\">361e128affece850342293213<br>691a043 ...</td>\n",
       "        <td style=\"padding-left: 1em; padding-right: 1em; text-align: center; vertical-align: top\">3386</td>\n",
       "        <td style=\"padding-left: 1em; padding-right: 1em; text-align: center; vertical-align: top\">null</td>\n",
       "    </tr>\n",
       "    <tr>\n",
       "        <td style=\"padding-left: 1em; padding-right: 1em; text-align: center; vertical-align: top\">bebefa5efe83beee17a3d245e<br>7c5085b ...</td>\n",
       "        <td style=\"padding-left: 1em; padding-right: 1em; text-align: center; vertical-align: top\">1458</td>\n",
       "        <td style=\"padding-left: 1em; padding-right: 1em; text-align: center; vertical-align: top\">13403,10057,10063,10083,1<br>0006,10110 ...</td>\n",
       "    </tr>\n",
       "</table>\n",
       "[10 rows x 26 columns]<br/>\n",
       "</div>"
      ],
      "text/plain": [
       "Columns:\n",
       "\tclick\tint\n",
       "\tweekday\tint\n",
       "\thour\tint\n",
       "\tbidid\tstr\n",
       "\tlogtype\tint\n",
       "\tuserid\tstr\n",
       "\tuseragent\tstr\n",
       "\tIP\tstr\n",
       "\tregion\tint\n",
       "\tcity\tint\n",
       "\tadexchange\tstr\n",
       "\tdomain\tstr\n",
       "\turl\tstr\n",
       "\turlid\tstr\n",
       "\tslotid\tstr\n",
       "\tslotwidth\tint\n",
       "\tslotheight\tint\n",
       "\tslotvisibility\tstr\n",
       "\tslotformat\tstr\n",
       "\tslotprice\tint\n",
       "\tcreative\tstr\n",
       "\tbidprice\tint\n",
       "\tpayprice\tint\n",
       "\tkeypage\tstr\n",
       "\tadvertiser\tint\n",
       "\tusertag\tstr\n",
       "\n",
       "Rows: 10\n",
       "\n",
       "Data:\n",
       "+-------+---------+------+-------------------------------+---------+\n",
       "| click | weekday | hour |             bidid             | logtype |\n",
       "+-------+---------+------+-------------------------------+---------+\n",
       "|   0   |    1    |  14  | fdfae6789b787899f1b875de3a... |    1    |\n",
       "|   0   |    2    |  20  | 372883147cdefbc495fb5082f7... |    1    |\n",
       "|   0   |    5    |  9   | 2912cb5947e1fad450e2473c2f... |    1    |\n",
       "|   0   |    2    |  20  | d7b7d61d1e50e1d27d210928d2... |    1    |\n",
       "|   0   |    6    |  9   | 657d317dc4045bb79c2652abbe... |    1    |\n",
       "|   0   |    3    |  22  | 97948108bc353d0f3ef1e0142a... |    1    |\n",
       "|   0   |    5    |  16  | 26739c29a9294f157930f3f5bb... |    1    |\n",
       "|   0   |    0    |  21  | 404f5a6f3a1dde4ae1811646c0... |    1    |\n",
       "|   0   |    4    |  17  | 39095668ca6fd532b7c6d3dfad... |    1    |\n",
       "|   0   |    0    |  17  | dd3e2fd0370f672e6cbc559767... |    1    |\n",
       "+-------+---------+------+-------------------------------+---------+\n",
       "+-------------------+----------------+---------------+--------+------+------------+\n",
       "|       userid      |   useragent    |       IP      | region | city | adexchange |\n",
       "+-------------------+----------------+---------------+--------+------+------------+\n",
       "| u_Vh1OPkFv3q5CFdR |   windows_ie   | 180.107.112.* |   80   |  85  |     2      |\n",
       "| u_VhkRL6dCOTLsq-c | windows_chrome | 125.120.199.* |   94   |  95  |     2      |\n",
       "| u_VhkyORMrD8TP3GL |   windows_ie   |  120.196.64.* |  216   | 217  |     1      |\n",
       "| u_VhkyLRqVL2a4eWL |   windows_ie   | 219.131.122.* |  216   | 221  |     2      |\n",
       "| u_Vh1zOJuQOtTCBgL | windows_chrome |  123.190.78.* |   40   |  48  |     1      |\n",
       "| u_Vh5h1p2SDvFsGMa |   windows_ie   | 111.227.172.* |   3    |  6   |     1      |\n",
       "|   u_D89EGm6FGGV   | windows_chrome |  27.46.201.*  |  216   | 217  |     2      |\n",
       "|   u_D9MLsHCazAr   | windows_chrome |  112.92.88.*  |  216   | 220  |     4      |\n",
       "| u_Vh5_LAT0322yFOl |   windows_ie   |  218.77.12.*  |  201   | 213  |     2      |\n",
       "| u_VhTnL7d7PtB8XWC |   windows_ie   | 122.137.146.* |   55   |  57  |     3      |\n",
       "+-------------------+----------------+---------------+--------+------+------------+\n",
       "+-------------------------------+-------------------------------+-------+\n",
       "|             domain            |              url              | urlid |\n",
       "+-------------------------------+-------------------------------+-------+\n",
       "|      trqRTuToMTNUjM9r5rMi     | d48a96ab59d7ad741a48e781de... |  null |\n",
       "|       trqRTv14MqTR1m58uG      | 313e110c149d24b3236165d308... |  null |\n",
       "|         trqRTJTxX5scg4        | 845b72208c27b993daa11c8104... |  null |\n",
       "|      trqRTuMvjTN7X9KbuKz      | ea6709db2703ae8698755629f1... |  null |\n",
       "|        trqRTu1YP5scFsf        | b7b8e74eefbdd5cc1a9f0acb2e... |  null |\n",
       "|        trqRTJubX5scFsf        | 37bdc8299d3b42e6f04ccf4fca... |  null |\n",
       "| 333a4ab5e4ae8e17d7ca862377... | 4bf89e8bc0f9e55e8305087441... |  null |\n",
       "| 1164f4caea2d39bc9dcc8dd22b... | 37a58da844768798ec368daff8... |  null |\n",
       "|      trqRTv1EXQuYgMKE5SqW     | da7852090bb61af96fbcd29898... |  null |\n",
       "|        5F1RQS9rg5scFsf        | 19422c57c90579925952ed859e... |  null |\n",
       "+-------------------------------+-------------------------------+-------+\n",
       "+------------------------------+-----------+------------+----------------+------------+\n",
       "|            slotid            | slotwidth | slotheight | slotvisibility | slotformat |\n",
       "+------------------------------+-----------+------------+----------------+------------+\n",
       "|          433287550           |    468    |     60     |       1        |     0      |\n",
       "|          2264242698          |    250    |    250     |       1        |     0      |\n",
       "| mm_40135906_3486753_11388735 |    336    |    280     |       0        |     1      |\n",
       "|          2536830969          |    728    |     90     |       0        |     0      |\n",
       "| mm_10075660_3500949_11453278 |    950    |     90     |       0        |     1      |\n",
       "| mm_14539978_2071324_8355258  |    300    |    250     |       1        |     1      |\n",
       "|          2932492844          |    728    |     90     |   OtherView    |     Na     |\n",
       "|     9223372032560960619      |    960    |     90     |   FirstView    |     Na     |\n",
       "|          3151450371          |    336    |    280     |       2        |     0      |\n",
       "|     News_F_bottom_Width      |    1000   |     90     |       0        |     0      |\n",
       "+------------------------------+-----------+------------+----------------+------------+\n",
       "+-----------+-----+\n",
       "| slotprice | ... |\n",
       "+-----------+-----+\n",
       "|     5     | ... |\n",
       "|     5     | ... |\n",
       "|     0     | ... |\n",
       "|    162    | ... |\n",
       "|     0     | ... |\n",
       "|     0     | ... |\n",
       "|     5     | ... |\n",
       "|     0     | ... |\n",
       "|     5     | ... |\n",
       "|     31    | ... |\n",
       "+-----------+-----+\n",
       "[10 rows x 26 columns]"
      ]
     },
     "execution_count": 30,
     "metadata": {},
     "output_type": "execute_result"
    }
   ],
   "source": [
    "train_data.head()"
   ]
  },
  {
   "cell_type": "code",
   "execution_count": 33,
   "metadata": {
    "collapsed": false
   },
   "outputs": [
    {
     "data": {
      "text/html": [
       "<pre>Finished parsing file D:\\kaggle\\webecon\\validation.csv</pre>"
      ],
      "text/plain": [
       "Finished parsing file D:\\kaggle\\webecon\\validation.csv"
      ]
     },
     "metadata": {},
     "output_type": "display_data"
    },
    {
     "data": {
      "text/html": [
       "<pre>Parsing completed. Parsed 100 lines in 1.85433 secs.</pre>"
      ],
      "text/plain": [
       "Parsing completed. Parsed 100 lines in 1.85433 secs."
      ]
     },
     "metadata": {},
     "output_type": "display_data"
    },
    {
     "name": "stdout",
     "output_type": "stream",
     "text": [
      "------------------------------------------------------\n",
      "Inferred types from first 100 line(s) of file as \n",
      "column_type_hints=[long,long,long,str,long,str,str,str,long,long,str,str,str,str,str,long,long,str,str,long,str,long,long,str,long,str]\n",
      "If parsing fails due to incorrect types, you can correct\n",
      "the inferred type list above and pass it to read_csv in\n",
      "the column_type_hints argument\n",
      "------------------------------------------------------\n"
     ]
    },
    {
     "data": {
      "text/html": [
       "<pre>Read 186177 lines. Lines per second: 87913.8</pre>"
      ],
      "text/plain": [
       "Read 186177 lines. Lines per second: 87913.8"
      ]
     },
     "metadata": {},
     "output_type": "display_data"
    },
    {
     "data": {
      "text/html": [
       "<pre>Finished parsing file D:\\kaggle\\webecon\\validation.csv</pre>"
      ],
      "text/plain": [
       "Finished parsing file D:\\kaggle\\webecon\\validation.csv"
      ]
     },
     "metadata": {},
     "output_type": "display_data"
    },
    {
     "data": {
      "text/html": [
       "<pre>Parsing completed. Parsed 299749 lines in 2.69585 secs.</pre>"
      ],
      "text/plain": [
       "Parsing completed. Parsed 299749 lines in 2.69585 secs."
      ]
     },
     "metadata": {},
     "output_type": "display_data"
    }
   ],
   "source": [
    "val_data = gl.SFrame('validation.csv')"
   ]
  },
  {
   "cell_type": "code",
   "execution_count": 48,
   "metadata": {
    "collapsed": false
   },
   "outputs": [
    {
     "name": "stdout",
     "output_type": "stream",
     "text": [
      "PROGRESS: Creating a validation set from 5 percent of training data. This may take a while.\n",
      "          You can set ``validation_set=None`` to disable validation tracking.\n",
      "\n"
     ]
    },
    {
     "data": {
      "text/html": [
       "<pre>Linear regression:</pre>"
      ],
      "text/plain": [
       "Linear regression:"
      ]
     },
     "metadata": {},
     "output_type": "display_data"
    },
    {
     "data": {
      "text/html": [
       "<pre>--------------------------------------------------------</pre>"
      ],
      "text/plain": [
       "--------------------------------------------------------"
      ]
     },
     "metadata": {},
     "output_type": "display_data"
    },
    {
     "data": {
      "text/html": [
       "<pre>Number of examples          : 2562387</pre>"
      ],
      "text/plain": [
       "Number of examples          : 2562387"
      ]
     },
     "metadata": {},
     "output_type": "display_data"
    },
    {
     "data": {
      "text/html": [
       "<pre>Number of features          : 5</pre>"
      ],
      "text/plain": [
       "Number of features          : 5"
      ]
     },
     "metadata": {},
     "output_type": "display_data"
    },
    {
     "data": {
      "text/html": [
       "<pre>Number of unpacked features : 5</pre>"
      ],
      "text/plain": [
       "Number of unpacked features : 5"
      ]
     },
     "metadata": {},
     "output_type": "display_data"
    },
    {
     "data": {
      "text/html": [
       "<pre>Number of coefficients    : 55</pre>"
      ],
      "text/plain": [
       "Number of coefficients    : 55"
      ]
     },
     "metadata": {},
     "output_type": "display_data"
    },
    {
     "data": {
      "text/html": [
       "<pre>Starting Newton Method</pre>"
      ],
      "text/plain": [
       "Starting Newton Method"
      ]
     },
     "metadata": {},
     "output_type": "display_data"
    },
    {
     "data": {
      "text/html": [
       "<pre>--------------------------------------------------------</pre>"
      ],
      "text/plain": [
       "--------------------------------------------------------"
      ]
     },
     "metadata": {},
     "output_type": "display_data"
    },
    {
     "data": {
      "text/html": [
       "<pre>+-----------+----------+--------------+--------------------+----------------------+---------------+-----------------+</pre>"
      ],
      "text/plain": [
       "+-----------+----------+--------------+--------------------+----------------------+---------------+-----------------+"
      ]
     },
     "metadata": {},
     "output_type": "display_data"
    },
    {
     "data": {
      "text/html": [
       "<pre>| Iteration | Passes   | Elapsed Time | Training-max_error | Validation-max_error | Training-rmse | Validation-rmse |</pre>"
      ],
      "text/plain": [
       "| Iteration | Passes   | Elapsed Time | Training-max_error | Validation-max_error | Training-rmse | Validation-rmse |"
      ]
     },
     "metadata": {},
     "output_type": "display_data"
    },
    {
     "data": {
      "text/html": [
       "<pre>+-----------+----------+--------------+--------------------+----------------------+---------------+-----------------+</pre>"
      ],
      "text/plain": [
       "+-----------+----------+--------------+--------------------+----------------------+---------------+-----------------+"
      ]
     },
     "metadata": {},
     "output_type": "display_data"
    },
    {
     "data": {
      "text/html": [
       "<pre>| 1         | 2        | 2.198008     | 266.568128         | 251.617960           | 56.957948     | 56.985844       |</pre>"
      ],
      "text/plain": [
       "| 1         | 2        | 2.198008     | 266.568128         | 251.617960           | 56.957948     | 56.985844       |"
      ]
     },
     "metadata": {},
     "output_type": "display_data"
    },
    {
     "data": {
      "text/html": [
       "<pre>+-----------+----------+--------------+--------------------+----------------------+---------------+-----------------+</pre>"
      ],
      "text/plain": [
       "+-----------+----------+--------------+--------------------+----------------------+---------------+-----------------+"
      ]
     },
     "metadata": {},
     "output_type": "display_data"
    },
    {
     "data": {
      "text/html": [
       "<pre>SUCCESS: Optimal solution found.</pre>"
      ],
      "text/plain": [
       "SUCCESS: Optimal solution found."
      ]
     },
     "metadata": {},
     "output_type": "display_data"
    },
    {
     "data": {
      "text/html": [
       "<pre></pre>"
      ],
      "text/plain": []
     },
     "metadata": {},
     "output_type": "display_data"
    },
    {
     "name": "stdout",
     "output_type": "stream",
     "text": [
      "+-------------+------------------+-----------------+------------------+\n",
      "|     name    |      index       |      value      |      stderr      |\n",
      "+-------------+------------------+-----------------+------------------+\n",
      "| (intercept) |       None       |  58.8131994427  |  0.190123286393  |\n",
      "|  slotprice  |       None       |  0.664954408285 | 0.00124888669166 |\n",
      "|  useragent  |  windows_chrome  |  3.18915551758  |  0.07780193326   |\n",
      "|  useragent  |  android_safari  |  5.70902456934  |  0.480610345063  |\n",
      "|  useragent  |    mac_safari    |  -2.55696308856 |  0.291800294058  |\n",
      "|  useragent  | windows_theworld | -0.805665082328 |  0.475081445828  |\n",
      "|  useragent  |   other_other    |  9.34080714737  |  1.38934888513   |\n",
      "|  useragent  | windows_firefox  |  -4.21718701851 |  0.374292982347  |\n",
      "|  useragent  |  windows_other   |  0.420811496814 |  0.525769486769  |\n",
      "|  useragent  |  windows_opera   |  -3.84647019354 |  1.18254519714   |\n",
      "+-------------+------------------+-----------------+------------------+\n",
      "[55 rows x 4 columns]\n",
      "Note: Only the head of the SFrame is printed.\n",
      "You can use print_rows(num_rows=m, num_columns=n) to print more rows and columns.\n",
      "[91.92735891496598, 120.65566648539541, 79.18568726792844, 82.3748427855051, 61.99741987890397]\n"
     ]
    }
   ],
   "source": [
    "model = gl.linear_regression.create(train_data, target='payprice', features=['slotprice', 'useragent', 'adexchange', 'slotvisibility', 'advertiser'])\n",
    "\n",
    "# Save predictions to an SFrame (class and corresponding class-probabilities)\n",
    "predictions = model.predict(val_data)\n",
    "\n",
    "# Evaluate the model and save the results into a dictionary\n",
    "results = model.evaluate(val_data)\n",
    "\n",
    "# Check how each feature has an impact on the predictions, positive or negative\n",
    "coefs = model['coefficients']\n",
    "print(coefs)\n",
    "\n",
    "# Print the new payprice values\n",
    "print(predictions.head(5))"
   ]
  },
  {
   "cell_type": "code",
   "execution_count": 49,
   "metadata": {
    "collapsed": false
   },
   "outputs": [],
   "source": [
    "# Store the new values into a column called pctr\n",
    "#new_data=val_data.add_column(predictions, name='p_payprice')\n",
    "\n",
    "# Create new file\n",
    "#new_data.save('val_predictions_payprice.csv', format='csv')"
   ]
  },
  {
   "cell_type": "code",
   "execution_count": 50,
   "metadata": {
    "collapsed": false
   },
   "outputs": [
    {
     "data": {
      "text/html": [
       "<pre>Finished parsing file D:\\kaggle\\webecon\\test.csv</pre>"
      ],
      "text/plain": [
       "Finished parsing file D:\\kaggle\\webecon\\test.csv"
      ]
     },
     "metadata": {},
     "output_type": "display_data"
    },
    {
     "data": {
      "text/html": [
       "<pre>Parsing completed. Parsed 100 lines in 2.5793 secs.</pre>"
      ],
      "text/plain": [
       "Parsing completed. Parsed 100 lines in 2.5793 secs."
      ]
     },
     "metadata": {},
     "output_type": "display_data"
    },
    {
     "name": "stdout",
     "output_type": "stream",
     "text": [
      "------------------------------------------------------\n",
      "Inferred types from first 100 line(s) of file as \n",
      "column_type_hints=[long,long,str,long,str,str,str,long,long,str,str,str,str,str,long,long,str,str,long,str,str,long,str]\n",
      "If parsing fails due to incorrect types, you can correct\n",
      "the inferred type list above and pass it to read_csv in\n",
      "the column_type_hints argument\n",
      "------------------------------------------------------\n"
     ]
    },
    {
     "data": {
      "text/html": [
       "<pre>Read 192551 lines. Lines per second: 99145.1</pre>"
      ],
      "text/plain": [
       "Read 192551 lines. Lines per second: 99145.1"
      ]
     },
     "metadata": {},
     "output_type": "display_data"
    },
    {
     "data": {
      "text/html": [
       "<pre>Finished parsing file D:\\kaggle\\webecon\\test.csv</pre>"
      ],
      "text/plain": [
       "Finished parsing file D:\\kaggle\\webecon\\test.csv"
      ]
     },
     "metadata": {},
     "output_type": "display_data"
    },
    {
     "data": {
      "text/html": [
       "<pre>Parsing completed. Parsed 299749 lines in 2.38973 secs.</pre>"
      ],
      "text/plain": [
       "Parsing completed. Parsed 299749 lines in 2.38973 secs."
      ]
     },
     "metadata": {},
     "output_type": "display_data"
    }
   ],
   "source": [
    "# Load the test data\n",
    "test_data = gl.SFrame('test.csv')"
   ]
  },
  {
   "cell_type": "code",
   "execution_count": 51,
   "metadata": {
    "collapsed": false
   },
   "outputs": [
    {
     "name": "stdout",
     "output_type": "stream",
     "text": [
      "+-------------+------------------+-----------------+------------------+\n",
      "|     name    |      index       |      value      |      stderr      |\n",
      "+-------------+------------------+-----------------+------------------+\n",
      "| (intercept) |       None       |  58.8131994427  |  0.190123286393  |\n",
      "|  slotprice  |       None       |  0.664954408285 | 0.00124888669166 |\n",
      "|  useragent  |  windows_chrome  |  3.18915551758  |  0.07780193326   |\n",
      "|  useragent  |  android_safari  |  5.70902456934  |  0.480610345063  |\n",
      "|  useragent  |    mac_safari    |  -2.55696308856 |  0.291800294058  |\n",
      "|  useragent  | windows_theworld | -0.805665082328 |  0.475081445828  |\n",
      "|  useragent  |   other_other    |  9.34080714737  |  1.38934888513   |\n",
      "|  useragent  | windows_firefox  |  -4.21718701851 |  0.374292982347  |\n",
      "|  useragent  |  windows_other   |  0.420811496814 |  0.525769486769  |\n",
      "|  useragent  |  windows_opera   |  -3.84647019354 |  1.18254519714   |\n",
      "+-------------+------------------+-----------------+------------------+\n",
      "[55 rows x 4 columns]\n",
      "Note: Only the head of the SFrame is printed.\n",
      "You can use print_rows(num_rows=m, num_columns=n) to print more rows and columns.\n",
      "[118.28109299578928, 75.11946850014138, 49.12712237124005, 90.75018970845852, 53.59849937224843]\n"
     ]
    }
   ],
   "source": [
    "# Save predictions to an SFrame (class and corresponding class-probabilities)\n",
    "test_predictions = model.predict(test_data)\n",
    "\n",
    "# Evaluate the model and save the results into a dictionary\n",
    "#test_results = model.evaluate(test_data)\n",
    "\n",
    "# Check how each feature has an impact on the predictions, positive or negative\n",
    "test_coefs = model['coefficients']\n",
    "print test_coefs\n",
    "\n",
    "# Print the new pCTR values\n",
    "print(test_predictions.head(5))"
   ]
  },
  {
   "cell_type": "code",
   "execution_count": 52,
   "metadata": {
    "collapsed": true
   },
   "outputs": [],
   "source": [
    "test_predictions = test_data.add_column(test_predictions, name='payprice')\n",
    "test_predictions.save('test_predictions_payprice.csv', format='csv')"
   ]
  },
  {
   "cell_type": "markdown",
   "metadata": {},
   "source": [
    "Mixing the two models (bidprice by pCTR and pCPC)"
   ]
  },
  {
   "cell_type": "code",
   "execution_count": 2,
   "metadata": {
    "collapsed": true
   },
   "outputs": [],
   "source": [
    "import graphlab as gl"
   ]
  },
  {
   "cell_type": "code",
   "execution_count": 13,
   "metadata": {
    "collapsed": false
   },
   "outputs": [
    {
     "data": {
      "text/html": [
       "<pre>Finished parsing file D:\\kaggle\\webecon\\test_predictions_click.csv</pre>"
      ],
      "text/plain": [
       "Finished parsing file D:\\kaggle\\webecon\\test_predictions_click.csv"
      ]
     },
     "metadata": {},
     "output_type": "display_data"
    },
    {
     "data": {
      "text/html": [
       "<pre>Parsing completed. Parsed 100 lines in 2.83995 secs.</pre>"
      ],
      "text/plain": [
       "Parsing completed. Parsed 100 lines in 2.83995 secs."
      ]
     },
     "metadata": {},
     "output_type": "display_data"
    },
    {
     "name": "stdout",
     "output_type": "stream",
     "text": [
      "------------------------------------------------------\n",
      "Inferred types from first 100 line(s) of file as \n",
      "column_type_hints=[long,long,str,long,str,str,str,long,long,str,str,str,str,str,long,long,str,str,long,str,str,long,str,float]\n",
      "If parsing fails due to incorrect types, you can correct\n",
      "the inferred type list above and pass it to read_csv in\n",
      "the column_type_hints argument\n",
      "------------------------------------------------------\n"
     ]
    },
    {
     "data": {
      "text/html": [
       "<pre>Read 184520 lines. Lines per second: 81501.9</pre>"
      ],
      "text/plain": [
       "Read 184520 lines. Lines per second: 81501.9"
      ]
     },
     "metadata": {},
     "output_type": "display_data"
    },
    {
     "data": {
      "text/html": [
       "<pre>Finished parsing file D:\\kaggle\\webecon\\test_predictions_click.csv</pre>"
      ],
      "text/plain": [
       "Finished parsing file D:\\kaggle\\webecon\\test_predictions_click.csv"
      ]
     },
     "metadata": {},
     "output_type": "display_data"
    },
    {
     "data": {
      "text/html": [
       "<pre>Parsing completed. Parsed 299749 lines in 2.751 secs.</pre>"
      ],
      "text/plain": [
       "Parsing completed. Parsed 299749 lines in 2.751 secs."
      ]
     },
     "metadata": {},
     "output_type": "display_data"
    },
    {
     "data": {
      "text/html": [
       "<pre>Finished parsing file D:\\kaggle\\webecon\\test_predictions_payprice.csv</pre>"
      ],
      "text/plain": [
       "Finished parsing file D:\\kaggle\\webecon\\test_predictions_payprice.csv"
      ]
     },
     "metadata": {},
     "output_type": "display_data"
    },
    {
     "data": {
      "text/html": [
       "<pre>Parsing completed. Parsed 100 lines in 2.228 secs.</pre>"
      ],
      "text/plain": [
       "Parsing completed. Parsed 100 lines in 2.228 secs."
      ]
     },
     "metadata": {},
     "output_type": "display_data"
    },
    {
     "name": "stdout",
     "output_type": "stream",
     "text": [
      "------------------------------------------------------\n",
      "Inferred types from first 100 line(s) of file as \n",
      "column_type_hints=[long,long,str,long,str,str,str,long,long,str,str,str,str,str,long,long,str,str,long,str,str,long,str,float]\n",
      "If parsing fails due to incorrect types, you can correct\n",
      "the inferred type list above and pass it to read_csv in\n",
      "the column_type_hints argument\n",
      "------------------------------------------------------\n"
     ]
    },
    {
     "data": {
      "text/html": [
       "<pre>Read 187126 lines. Lines per second: 110858</pre>"
      ],
      "text/plain": [
       "Read 187126 lines. Lines per second: 110858"
      ]
     },
     "metadata": {},
     "output_type": "display_data"
    },
    {
     "data": {
      "text/html": [
       "<pre>Finished parsing file D:\\kaggle\\webecon\\test_predictions_payprice.csv</pre>"
      ],
      "text/plain": [
       "Finished parsing file D:\\kaggle\\webecon\\test_predictions_payprice.csv"
      ]
     },
     "metadata": {},
     "output_type": "display_data"
    },
    {
     "data": {
      "text/html": [
       "<pre>Parsing completed. Parsed 299749 lines in 2.15398 secs.</pre>"
      ],
      "text/plain": [
       "Parsing completed. Parsed 299749 lines in 2.15398 secs."
      ]
     },
     "metadata": {},
     "output_type": "display_data"
    },
    {
     "data": {
      "text/html": [
       "<pre>Finished parsing file D:\\kaggle\\webecon\\submission_bidprice_by_pctr.csv</pre>"
      ],
      "text/plain": [
       "Finished parsing file D:\\kaggle\\webecon\\submission_bidprice_by_pctr.csv"
      ]
     },
     "metadata": {},
     "output_type": "display_data"
    },
    {
     "data": {
      "text/html": [
       "<pre>Parsing completed. Parsed 100 lines in 0.569977 secs.</pre>"
      ],
      "text/plain": [
       "Parsing completed. Parsed 100 lines in 0.569977 secs."
      ]
     },
     "metadata": {},
     "output_type": "display_data"
    },
    {
     "name": "stdout",
     "output_type": "stream",
     "text": [
      "------------------------------------------------------\n",
      "Inferred types from first 100 line(s) of file as \n",
      "column_type_hints=[str,float]\n",
      "If parsing fails due to incorrect types, you can correct\n",
      "the inferred type list above and pass it to read_csv in\n",
      "the column_type_hints argument\n",
      "------------------------------------------------------\n"
     ]
    },
    {
     "data": {
      "text/html": [
       "<pre>Finished parsing file D:\\kaggle\\webecon\\submission_bidprice_by_pctr.csv</pre>"
      ],
      "text/plain": [
       "Finished parsing file D:\\kaggle\\webecon\\submission_bidprice_by_pctr.csv"
      ]
     },
     "metadata": {},
     "output_type": "display_data"
    },
    {
     "data": {
      "text/html": [
       "<pre>Parsing completed. Parsed 299749 lines in 0.284994 secs.</pre>"
      ],
      "text/plain": [
       "Parsing completed. Parsed 299749 lines in 0.284994 secs."
      ]
     },
     "metadata": {},
     "output_type": "display_data"
    }
   ],
   "source": [
    "predicted_pctr = gl.SFrame('test_predictions_click.csv')\n",
    "predicted_payprice = gl.SFrame('test_predictions_payprice.csv')\n",
    "bidprices = gl.SFrame('submission_bidprice_by_pctr.csv')"
   ]
  },
  {
   "cell_type": "code",
   "execution_count": 67,
   "metadata": {
    "collapsed": false
   },
   "outputs": [
    {
     "name": "stdout",
     "output_type": "stream",
     "text": [
      "[-0.000636959, -0.000607402, -0.000563468, -0.000501231, -0.00048201, -0.000472275, -0.000453875, -0.000453875, -0.000453191, -0.000452452]\n",
      "[0.0, 0.0, 0.0, 0.0, 0.0, 0.0, 0.0, 0.0, 0.0, 0.0]\n",
      "[0.00722387, 0.00722088, 0.00721501, 0.00721501, 0.00721427, 0.00721427, 0.00721353, 0.00720318, 0.00720318, 0.00719358]\n",
      "[7.41823, 7.41823, 7.41823, 7.41823, 7.41823, 17.8415, 17.8415, 19.1693, 19.1693, 19.5018]\n",
      "+-------------------------------+----------+\n",
      "|             bidid             | bidprice |\n",
      "+-------------------------------+----------+\n",
      "| 5512d4774f9590a77fb6b068c7... | 958.117  |\n",
      "| a8fae72ee5e8779fe8b7794c56... | 957.721  |\n",
      "| ed35ed291d439bd29224e19dc3... | 956.942  |\n",
      "| ed77d336fbddb5b9fc56979ca2... | 956.942  |\n",
      "| 5aca0e3302824f761811ab2d41... | 956.844  |\n",
      "| 7d07f84f7477669a208b95a286... | 956.844  |\n",
      "| 8d788547611c53559f38b452f6... | 956.746  |\n",
      "| 950eef45f02baeb12763e6a92a... | 955.373  |\n",
      "| f9157ff98b5cb818a307dced76... | 955.373  |\n",
      "| 4e496944254a45609cf6b0c0c3... |  954.1   |\n",
      "+-------------------------------+----------+\n",
      "[10 rows x 2 columns]\n",
      "\n"
     ]
    }
   ],
   "source": [
    "predicted_pctr = predicted_pctr.sort('pctr', ascending=True)\n",
    "pctr = predicted_pctr['pctr']\n",
    "print pctr.head(10)\n",
    "\n",
    "new_pctr = predicted_pctr['pctr'].apply(lambda x:0.0 if x<1e-6 else x)\n",
    "print new_pctr.head(10)\n",
    "\n",
    "predicted_pctr.remove_column('pctr')\n",
    "predicted_pctr.add_column(new_pctr, 'pctr')\n",
    "predicted_pctr = predicted_pctr.sort('pctr', ascending=False)\n",
    "pctr = predicted_pctr['pctr']\n",
    "print pctr.head(10)\n",
    "\n",
    "predicted_payprice = predicted_payprice.sort('payprice', ascending=True)\n",
    "payprice = predicted_payprice['payprice']\n",
    "print payprice.head(10)\n",
    "\n",
    "print bidprices.head(10)"
   ]
  },
  {
   "cell_type": "code",
   "execution_count": 68,
   "metadata": {
    "collapsed": false
   },
   "outputs": [
    {
     "data": {
      "text/html": [
       "<div style=\"max-height:1000px;max-width:1500px;overflow:auto;\"><table frame=\"box\" rules=\"cols\">\n",
       "    <tr>\n",
       "        <th style=\"padding-left: 1em; padding-right: 1em; text-align: center\">bidid</th>\n",
       "        <th style=\"padding-left: 1em; padding-right: 1em; text-align: center\">bidprice</th>\n",
       "        <th style=\"padding-left: 1em; padding-right: 1em; text-align: center\">pctr</th>\n",
       "        <th style=\"padding-left: 1em; padding-right: 1em; text-align: center\">payprice</th>\n",
       "    </tr>\n",
       "    <tr>\n",
       "        <td style=\"padding-left: 1em; padding-right: 1em; text-align: center; vertical-align: top\">5512d4774f9590a77fb6b068c<br>783b2ac ...</td>\n",
       "        <td style=\"padding-left: 1em; padding-right: 1em; text-align: center; vertical-align: top\">958.117</td>\n",
       "        <td style=\"padding-left: 1em; padding-right: 1em; text-align: center; vertical-align: top\">0.00722387</td>\n",
       "        <td style=\"padding-left: 1em; padding-right: 1em; text-align: center; vertical-align: top\">98.3017</td>\n",
       "    </tr>\n",
       "    <tr>\n",
       "        <td style=\"padding-left: 1em; padding-right: 1em; text-align: center; vertical-align: top\">a8fae72ee5e8779fe8b7794c5<br>6ec1a3a ...</td>\n",
       "        <td style=\"padding-left: 1em; padding-right: 1em; text-align: center; vertical-align: top\">957.721</td>\n",
       "        <td style=\"padding-left: 1em; padding-right: 1em; text-align: center; vertical-align: top\">0.00722088</td>\n",
       "        <td style=\"padding-left: 1em; padding-right: 1em; text-align: center; vertical-align: top\">53.8355</td>\n",
       "    </tr>\n",
       "    <tr>\n",
       "        <td style=\"padding-left: 1em; padding-right: 1em; text-align: center; vertical-align: top\">ed77d336fbddb5b9fc56979ca<br>2500956 ...</td>\n",
       "        <td style=\"padding-left: 1em; padding-right: 1em; text-align: center; vertical-align: top\">956.942</td>\n",
       "        <td style=\"padding-left: 1em; padding-right: 1em; text-align: center; vertical-align: top\">0.00721501</td>\n",
       "        <td style=\"padding-left: 1em; padding-right: 1em; text-align: center; vertical-align: top\">130.483</td>\n",
       "    </tr>\n",
       "    <tr>\n",
       "        <td style=\"padding-left: 1em; padding-right: 1em; text-align: center; vertical-align: top\">ed35ed291d439bd29224e19dc<br>3334612 ...</td>\n",
       "        <td style=\"padding-left: 1em; padding-right: 1em; text-align: center; vertical-align: top\">956.942</td>\n",
       "        <td style=\"padding-left: 1em; padding-right: 1em; text-align: center; vertical-align: top\">0.00721501</td>\n",
       "        <td style=\"padding-left: 1em; padding-right: 1em; text-align: center; vertical-align: top\">98.9373</td>\n",
       "    </tr>\n",
       "    <tr>\n",
       "        <td style=\"padding-left: 1em; padding-right: 1em; text-align: center; vertical-align: top\">7d07f84f7477669a208b95a28<br>6c9bee1 ...</td>\n",
       "        <td style=\"padding-left: 1em; padding-right: 1em; text-align: center; vertical-align: top\">956.844</td>\n",
       "        <td style=\"padding-left: 1em; padding-right: 1em; text-align: center; vertical-align: top\">0.00721427</td>\n",
       "        <td style=\"padding-left: 1em; padding-right: 1em; text-align: center; vertical-align: top\">84.6863</td>\n",
       "    </tr>\n",
       "</table>\n",
       "[5 rows x 4 columns]<br/>\n",
       "</div>"
      ],
      "text/plain": [
       "Columns:\n",
       "\tbidid\tstr\n",
       "\tbidprice\tfloat\n",
       "\tpctr\tfloat\n",
       "\tpayprice\tfloat\n",
       "\n",
       "Rows: 5\n",
       "\n",
       "Data:\n",
       "+-------------------------------+----------+------------+----------+\n",
       "|             bidid             | bidprice |    pctr    | payprice |\n",
       "+-------------------------------+----------+------------+----------+\n",
       "| 5512d4774f9590a77fb6b068c7... | 958.117  | 0.00722387 | 98.3017  |\n",
       "| a8fae72ee5e8779fe8b7794c56... | 957.721  | 0.00722088 | 53.8355  |\n",
       "| ed77d336fbddb5b9fc56979ca2... | 956.942  | 0.00721501 | 130.483  |\n",
       "| ed35ed291d439bd29224e19dc3... | 956.942  | 0.00721501 | 98.9373  |\n",
       "| 7d07f84f7477669a208b95a286... | 956.844  | 0.00721427 | 84.6863  |\n",
       "+-------------------------------+----------+------------+----------+\n",
       "[5 rows x 4 columns]"
      ]
     },
     "execution_count": 68,
     "metadata": {},
     "output_type": "execute_result"
    }
   ],
   "source": [
    "left_sf = predicted_pctr.select_columns(['bidid','pctr'])\n",
    "right_sf = predicted_payprice.select_columns(['bidid','payprice'])\n",
    "combined_sf = bidprices.join(left_sf, on='bidid', how='inner')\n",
    "combined_sf = combined_sf.join(right_sf, on='bidid', how='inner')\n",
    "combined_sf.head(5)"
   ]
  },
  {
   "cell_type": "code",
   "execution_count": 69,
   "metadata": {
    "collapsed": false
   },
   "outputs": [
    {
     "data": {
      "text/html": [
       "<div style=\"max-height:1000px;max-width:1500px;overflow:auto;\"><table frame=\"box\" rules=\"cols\">\n",
       "    <tr>\n",
       "        <th style=\"padding-left: 1em; padding-right: 1em; text-align: center\">bidid</th>\n",
       "        <th style=\"padding-left: 1em; padding-right: 1em; text-align: center\">bidprice</th>\n",
       "        <th style=\"padding-left: 1em; padding-right: 1em; text-align: center\">pctr</th>\n",
       "        <th style=\"padding-left: 1em; padding-right: 1em; text-align: center\">payprice</th>\n",
       "        <th style=\"padding-left: 1em; padding-right: 1em; text-align: center\">pcpc</th>\n",
       "    </tr>\n",
       "    <tr>\n",
       "        <td style=\"padding-left: 1em; padding-right: 1em; text-align: center; vertical-align: top\">5512d4774f9590a77fb6b068c<br>783b2ac ...</td>\n",
       "        <td style=\"padding-left: 1em; padding-right: 1em; text-align: center; vertical-align: top\">958.117</td>\n",
       "        <td style=\"padding-left: 1em; padding-right: 1em; text-align: center; vertical-align: top\">0.00722387</td>\n",
       "        <td style=\"padding-left: 1em; padding-right: 1em; text-align: center; vertical-align: top\">98.3017</td>\n",
       "        <td style=\"padding-left: 1em; padding-right: 1em; text-align: center; vertical-align: top\">13607.8999207</td>\n",
       "    </tr>\n",
       "    <tr>\n",
       "        <td style=\"padding-left: 1em; padding-right: 1em; text-align: center; vertical-align: top\">a8fae72ee5e8779fe8b7794c5<br>6ec1a3a ...</td>\n",
       "        <td style=\"padding-left: 1em; padding-right: 1em; text-align: center; vertical-align: top\">957.721</td>\n",
       "        <td style=\"padding-left: 1em; padding-right: 1em; text-align: center; vertical-align: top\">0.00722088</td>\n",
       "        <td style=\"padding-left: 1em; padding-right: 1em; text-align: center; vertical-align: top\">53.8355</td>\n",
       "        <td style=\"padding-left: 1em; padding-right: 1em; text-align: center; vertical-align: top\">7455.53173574</td>\n",
       "    </tr>\n",
       "    <tr>\n",
       "        <td style=\"padding-left: 1em; padding-right: 1em; text-align: center; vertical-align: top\">ed77d336fbddb5b9fc56979ca<br>2500956 ...</td>\n",
       "        <td style=\"padding-left: 1em; padding-right: 1em; text-align: center; vertical-align: top\">956.942</td>\n",
       "        <td style=\"padding-left: 1em; padding-right: 1em; text-align: center; vertical-align: top\">0.00721501</td>\n",
       "        <td style=\"padding-left: 1em; padding-right: 1em; text-align: center; vertical-align: top\">130.483</td>\n",
       "        <td style=\"padding-left: 1em; padding-right: 1em; text-align: center; vertical-align: top\">18084.9368192</td>\n",
       "    </tr>\n",
       "    <tr>\n",
       "        <td style=\"padding-left: 1em; padding-right: 1em; text-align: center; vertical-align: top\">ed35ed291d439bd29224e19dc<br>3334612 ...</td>\n",
       "        <td style=\"padding-left: 1em; padding-right: 1em; text-align: center; vertical-align: top\">956.942</td>\n",
       "        <td style=\"padding-left: 1em; padding-right: 1em; text-align: center; vertical-align: top\">0.00721501</td>\n",
       "        <td style=\"padding-left: 1em; padding-right: 1em; text-align: center; vertical-align: top\">98.9373</td>\n",
       "        <td style=\"padding-left: 1em; padding-right: 1em; text-align: center; vertical-align: top\">13712.7044869</td>\n",
       "    </tr>\n",
       "    <tr>\n",
       "        <td style=\"padding-left: 1em; padding-right: 1em; text-align: center; vertical-align: top\">7d07f84f7477669a208b95a28<br>6c9bee1 ...</td>\n",
       "        <td style=\"padding-left: 1em; padding-right: 1em; text-align: center; vertical-align: top\">956.844</td>\n",
       "        <td style=\"padding-left: 1em; padding-right: 1em; text-align: center; vertical-align: top\">0.00721427</td>\n",
       "        <td style=\"padding-left: 1em; padding-right: 1em; text-align: center; vertical-align: top\">84.6863</td>\n",
       "        <td style=\"padding-left: 1em; padding-right: 1em; text-align: center; vertical-align: top\">11738.720619</td>\n",
       "    </tr>\n",
       "    <tr>\n",
       "        <td style=\"padding-left: 1em; padding-right: 1em; text-align: center; vertical-align: top\">5aca0e3302824f761811ab2d4<br>1157225 ...</td>\n",
       "        <td style=\"padding-left: 1em; padding-right: 1em; text-align: center; vertical-align: top\">956.844</td>\n",
       "        <td style=\"padding-left: 1em; padding-right: 1em; text-align: center; vertical-align: top\">0.00721427</td>\n",
       "        <td style=\"padding-left: 1em; padding-right: 1em; text-align: center; vertical-align: top\">84.6863</td>\n",
       "        <td style=\"padding-left: 1em; padding-right: 1em; text-align: center; vertical-align: top\">11738.720619</td>\n",
       "    </tr>\n",
       "    <tr>\n",
       "        <td style=\"padding-left: 1em; padding-right: 1em; text-align: center; vertical-align: top\">8d788547611c53559f38b452f<br>65bd91b ...</td>\n",
       "        <td style=\"padding-left: 1em; padding-right: 1em; text-align: center; vertical-align: top\">956.746</td>\n",
       "        <td style=\"padding-left: 1em; padding-right: 1em; text-align: center; vertical-align: top\">0.00721353</td>\n",
       "        <td style=\"padding-left: 1em; padding-right: 1em; text-align: center; vertical-align: top\">84.6863</td>\n",
       "        <td style=\"padding-left: 1em; padding-right: 1em; text-align: center; vertical-align: top\">11739.9248357</td>\n",
       "    </tr>\n",
       "    <tr>\n",
       "        <td style=\"padding-left: 1em; padding-right: 1em; text-align: center; vertical-align: top\">950eef45f02baeb12763e6a92<br>a622200 ...</td>\n",
       "        <td style=\"padding-left: 1em; padding-right: 1em; text-align: center; vertical-align: top\">955.373</td>\n",
       "        <td style=\"padding-left: 1em; padding-right: 1em; text-align: center; vertical-align: top\">0.00720318</td>\n",
       "        <td style=\"padding-left: 1em; padding-right: 1em; text-align: center; vertical-align: top\">99.1894</td>\n",
       "        <td style=\"padding-left: 1em; padding-right: 1em; text-align: center; vertical-align: top\">13770.2237068</td>\n",
       "    </tr>\n",
       "    <tr>\n",
       "        <td style=\"padding-left: 1em; padding-right: 1em; text-align: center; vertical-align: top\">f9157ff98b5cb818a307dced7<br>6ffec79 ...</td>\n",
       "        <td style=\"padding-left: 1em; padding-right: 1em; text-align: center; vertical-align: top\">955.373</td>\n",
       "        <td style=\"padding-left: 1em; padding-right: 1em; text-align: center; vertical-align: top\">0.00720318</td>\n",
       "        <td style=\"padding-left: 1em; padding-right: 1em; text-align: center; vertical-align: top\">122.354</td>\n",
       "        <td style=\"padding-left: 1em; padding-right: 1em; text-align: center; vertical-align: top\">16986.108913</td>\n",
       "    </tr>\n",
       "    <tr>\n",
       "        <td style=\"padding-left: 1em; padding-right: 1em; text-align: center; vertical-align: top\">403cd29d43db311f6dbe8c681<br>db5bfeb ...</td>\n",
       "        <td style=\"padding-left: 1em; padding-right: 1em; text-align: center; vertical-align: top\">954.1</td>\n",
       "        <td style=\"padding-left: 1em; padding-right: 1em; text-align: center; vertical-align: top\">0.00719358</td>\n",
       "        <td style=\"padding-left: 1em; padding-right: 1em; text-align: center; vertical-align: top\">122.156</td>\n",
       "        <td style=\"padding-left: 1em; padding-right: 1em; text-align: center; vertical-align: top\">16981.2527281</td>\n",
       "    </tr>\n",
       "</table>\n",
       "[10 rows x 5 columns]<br/>\n",
       "</div>"
      ],
      "text/plain": [
       "Columns:\n",
       "\tbidid\tstr\n",
       "\tbidprice\tfloat\n",
       "\tpctr\tfloat\n",
       "\tpayprice\tfloat\n",
       "\tpcpc\tfloat\n",
       "\n",
       "Rows: 10\n",
       "\n",
       "Data:\n",
       "+-------------------------------+----------+------------+----------+\n",
       "|             bidid             | bidprice |    pctr    | payprice |\n",
       "+-------------------------------+----------+------------+----------+\n",
       "| 5512d4774f9590a77fb6b068c7... | 958.117  | 0.00722387 | 98.3017  |\n",
       "| a8fae72ee5e8779fe8b7794c56... | 957.721  | 0.00722088 | 53.8355  |\n",
       "| ed77d336fbddb5b9fc56979ca2... | 956.942  | 0.00721501 | 130.483  |\n",
       "| ed35ed291d439bd29224e19dc3... | 956.942  | 0.00721501 | 98.9373  |\n",
       "| 7d07f84f7477669a208b95a286... | 956.844  | 0.00721427 | 84.6863  |\n",
       "| 5aca0e3302824f761811ab2d41... | 956.844  | 0.00721427 | 84.6863  |\n",
       "| 8d788547611c53559f38b452f6... | 956.746  | 0.00721353 | 84.6863  |\n",
       "| 950eef45f02baeb12763e6a92a... | 955.373  | 0.00720318 | 99.1894  |\n",
       "| f9157ff98b5cb818a307dced76... | 955.373  | 0.00720318 | 122.354  |\n",
       "| 403cd29d43db311f6dbe8c681d... |  954.1   | 0.00719358 | 122.156  |\n",
       "+-------------------------------+----------+------------+----------+\n",
       "+---------------+\n",
       "|      pcpc     |\n",
       "+---------------+\n",
       "| 13607.8999207 |\n",
       "| 7455.53173574 |\n",
       "| 18084.9368192 |\n",
       "| 13712.7044869 |\n",
       "|  11738.720619 |\n",
       "|  11738.720619 |\n",
       "| 11739.9248357 |\n",
       "| 13770.2237068 |\n",
       "|  16986.108913 |\n",
       "| 16981.2527281 |\n",
       "+---------------+\n",
       "[10 rows x 5 columns]"
      ]
     },
     "execution_count": 69,
     "metadata": {},
     "output_type": "execute_result"
    }
   ],
   "source": [
    "cpc = combined_sf['payprice']/combined_sf['pctr']\n",
    "combined_sf.add_column(cpc, 'pcpc')\n",
    "combined_sf.head()"
   ]
  },
  {
   "cell_type": "code",
   "execution_count": 75,
   "metadata": {
    "collapsed": false
   },
   "outputs": [
    {
     "data": {
      "text/html": [
       "<div style=\"max-height:1000px;max-width:1500px;overflow:auto;\"><table frame=\"box\" rules=\"cols\">\n",
       "    <tr>\n",
       "        <th style=\"padding-left: 1em; padding-right: 1em; text-align: center\">pcpc_rank</th>\n",
       "        <th style=\"padding-left: 1em; padding-right: 1em; text-align: center\">pctr_rank</th>\n",
       "        <th style=\"padding-left: 1em; padding-right: 1em; text-align: center\">bidid</th>\n",
       "        <th style=\"padding-left: 1em; padding-right: 1em; text-align: center\">bidprice</th>\n",
       "        <th style=\"padding-left: 1em; padding-right: 1em; text-align: center\">pctr</th>\n",
       "        <th style=\"padding-left: 1em; padding-right: 1em; text-align: center\">payprice</th>\n",
       "        <th style=\"padding-left: 1em; padding-right: 1em; text-align: center\">pcpc</th>\n",
       "        <th style=\"padding-left: 1em; padding-right: 1em; text-align: center\">rank</th>\n",
       "    </tr>\n",
       "    <tr>\n",
       "        <td style=\"padding-left: 1em; padding-right: 1em; text-align: center; vertical-align: top\">8</td>\n",
       "        <td style=\"padding-left: 1em; padding-right: 1em; text-align: center; vertical-align: top\">129</td>\n",
       "        <td style=\"padding-left: 1em; padding-right: 1em; text-align: center; vertical-align: top\">54c9b105ef3d7da7e78c3bf5c<br>9b207c9 ...</td>\n",
       "        <td style=\"padding-left: 1em; padding-right: 1em; text-align: center; vertical-align: top\">812.47</td>\n",
       "        <td style=\"padding-left: 1em; padding-right: 1em; text-align: center; vertical-align: top\">0.00612574</td>\n",
       "        <td style=\"padding-left: 1em; padding-right: 1em; text-align: center; vertical-align: top\">27.4886</td>\n",
       "        <td style=\"padding-left: 1em; padding-right: 1em; text-align: center; vertical-align: top\">4487.39254359</td>\n",
       "        <td style=\"padding-left: 1em; padding-right: 1em; text-align: center; vertical-align: top\">68.0</td>\n",
       "    </tr>\n",
       "    <tr>\n",
       "        <td style=\"padding-left: 1em; padding-right: 1em; text-align: center; vertical-align: top\">9</td>\n",
       "        <td style=\"padding-left: 1em; padding-right: 1em; text-align: center; vertical-align: top\">131</td>\n",
       "        <td style=\"padding-left: 1em; padding-right: 1em; text-align: center; vertical-align: top\">d098a9fd83491f9fbd0ae64d2<br>f967ddf ...</td>\n",
       "        <td style=\"padding-left: 1em; padding-right: 1em; text-align: center; vertical-align: top\">812.47</td>\n",
       "        <td style=\"padding-left: 1em; padding-right: 1em; text-align: center; vertical-align: top\">0.00612574</td>\n",
       "        <td style=\"padding-left: 1em; padding-right: 1em; text-align: center; vertical-align: top\">27.4886</td>\n",
       "        <td style=\"padding-left: 1em; padding-right: 1em; text-align: center; vertical-align: top\">4487.39254359</td>\n",
       "        <td style=\"padding-left: 1em; padding-right: 1em; text-align: center; vertical-align: top\">69.5</td>\n",
       "    </tr>\n",
       "    <tr>\n",
       "        <td style=\"padding-left: 1em; padding-right: 1em; text-align: center; vertical-align: top\">10</td>\n",
       "        <td style=\"padding-left: 1em; padding-right: 1em; text-align: center; vertical-align: top\">135</td>\n",
       "        <td style=\"padding-left: 1em; padding-right: 1em; text-align: center; vertical-align: top\">552c98e24466c095af33dbd79<br>a8a3c7c ...</td>\n",
       "        <td style=\"padding-left: 1em; padding-right: 1em; text-align: center; vertical-align: top\">812.274</td>\n",
       "        <td style=\"padding-left: 1em; padding-right: 1em; text-align: center; vertical-align: top\">0.00612426</td>\n",
       "        <td style=\"padding-left: 1em; padding-right: 1em; text-align: center; vertical-align: top\">27.4886</td>\n",
       "        <td style=\"padding-left: 1em; padding-right: 1em; text-align: center; vertical-align: top\">4488.47697518</td>\n",
       "        <td style=\"padding-left: 1em; padding-right: 1em; text-align: center; vertical-align: top\">72.0</td>\n",
       "    </tr>\n",
       "    <tr>\n",
       "        <td style=\"padding-left: 1em; padding-right: 1em; text-align: center; vertical-align: top\">11</td>\n",
       "        <td style=\"padding-left: 1em; padding-right: 1em; text-align: center; vertical-align: top\">134</td>\n",
       "        <td style=\"padding-left: 1em; padding-right: 1em; text-align: center; vertical-align: top\">a62bc641c61370872e69318d4<br>5325c53 ...</td>\n",
       "        <td style=\"padding-left: 1em; padding-right: 1em; text-align: center; vertical-align: top\">812.274</td>\n",
       "        <td style=\"padding-left: 1em; padding-right: 1em; text-align: center; vertical-align: top\">0.00612426</td>\n",
       "        <td style=\"padding-left: 1em; padding-right: 1em; text-align: center; vertical-align: top\">27.4886</td>\n",
       "        <td style=\"padding-left: 1em; padding-right: 1em; text-align: center; vertical-align: top\">4488.47697518</td>\n",
       "        <td style=\"padding-left: 1em; padding-right: 1em; text-align: center; vertical-align: top\">72.0</td>\n",
       "    </tr>\n",
       "    <tr>\n",
       "        <td style=\"padding-left: 1em; padding-right: 1em; text-align: center; vertical-align: top\">12</td>\n",
       "        <td style=\"padding-left: 1em; padding-right: 1em; text-align: center; vertical-align: top\">143</td>\n",
       "        <td style=\"padding-left: 1em; padding-right: 1em; text-align: center; vertical-align: top\">f24fbd951cc76504e1e5a9647<br>819cb1c ...</td>\n",
       "        <td style=\"padding-left: 1em; padding-right: 1em; text-align: center; vertical-align: top\">810.999</td>\n",
       "        <td style=\"padding-left: 1em; padding-right: 1em; text-align: center; vertical-align: top\">0.00611465</td>\n",
       "        <td style=\"padding-left: 1em; padding-right: 1em; text-align: center; vertical-align: top\">27.4886</td>\n",
       "        <td style=\"padding-left: 1em; padding-right: 1em; text-align: center; vertical-align: top\">4495.53122419</td>\n",
       "        <td style=\"padding-left: 1em; padding-right: 1em; text-align: center; vertical-align: top\">77.0</td>\n",
       "    </tr>\n",
       "    <tr>\n",
       "        <td style=\"padding-left: 1em; padding-right: 1em; text-align: center; vertical-align: top\">13</td>\n",
       "        <td style=\"padding-left: 1em; padding-right: 1em; text-align: center; vertical-align: top\">149</td>\n",
       "        <td style=\"padding-left: 1em; padding-right: 1em; text-align: center; vertical-align: top\">648ec1e89b138accb6f71e91a<br>6b41301 ...</td>\n",
       "        <td style=\"padding-left: 1em; padding-right: 1em; text-align: center; vertical-align: top\">809.921</td>\n",
       "        <td style=\"padding-left: 1em; padding-right: 1em; text-align: center; vertical-align: top\">0.00610652</td>\n",
       "        <td style=\"padding-left: 1em; padding-right: 1em; text-align: center; vertical-align: top\">27.4886</td>\n",
       "        <td style=\"padding-left: 1em; padding-right: 1em; text-align: center; vertical-align: top\">4501.51641197</td>\n",
       "        <td style=\"padding-left: 1em; padding-right: 1em; text-align: center; vertical-align: top\">80.5</td>\n",
       "    </tr>\n",
       "    <tr>\n",
       "        <td style=\"padding-left: 1em; padding-right: 1em; text-align: center; vertical-align: top\">15</td>\n",
       "        <td style=\"padding-left: 1em; padding-right: 1em; text-align: center; vertical-align: top\">165</td>\n",
       "        <td style=\"padding-left: 1em; padding-right: 1em; text-align: center; vertical-align: top\">2e3abeb14a51aab78be58c149<br>66ebe72 ...</td>\n",
       "        <td style=\"padding-left: 1em; padding-right: 1em; text-align: center; vertical-align: top\">809.726</td>\n",
       "        <td style=\"padding-left: 1em; padding-right: 1em; text-align: center; vertical-align: top\">0.00610505</td>\n",
       "        <td style=\"padding-left: 1em; padding-right: 1em; text-align: center; vertical-align: top\">27.4886</td>\n",
       "        <td style=\"padding-left: 1em; padding-right: 1em; text-align: center; vertical-align: top\">4502.6003063</td>\n",
       "        <td style=\"padding-left: 1em; padding-right: 1em; text-align: center; vertical-align: top\">89.5</td>\n",
       "    </tr>\n",
       "    <tr>\n",
       "        <td style=\"padding-left: 1em; padding-right: 1em; text-align: center; vertical-align: top\">14</td>\n",
       "        <td style=\"padding-left: 1em; padding-right: 1em; text-align: center; vertical-align: top\">167</td>\n",
       "        <td style=\"padding-left: 1em; padding-right: 1em; text-align: center; vertical-align: top\">fca96dad601a24a3d48f14615<br>1d8b241 ...</td>\n",
       "        <td style=\"padding-left: 1em; padding-right: 1em; text-align: center; vertical-align: top\">809.726</td>\n",
       "        <td style=\"padding-left: 1em; padding-right: 1em; text-align: center; vertical-align: top\">0.00610505</td>\n",
       "        <td style=\"padding-left: 1em; padding-right: 1em; text-align: center; vertical-align: top\">27.4886</td>\n",
       "        <td style=\"padding-left: 1em; padding-right: 1em; text-align: center; vertical-align: top\">4502.6003063</td>\n",
       "        <td style=\"padding-left: 1em; padding-right: 1em; text-align: center; vertical-align: top\">90.0</td>\n",
       "    </tr>\n",
       "    <tr>\n",
       "        <td style=\"padding-left: 1em; padding-right: 1em; text-align: center; vertical-align: top\">16</td>\n",
       "        <td style=\"padding-left: 1em; padding-right: 1em; text-align: center; vertical-align: top\">178</td>\n",
       "        <td style=\"padding-left: 1em; padding-right: 1em; text-align: center; vertical-align: top\">f85840c8069f8a73e0e43b34f<br>c9f76fe ...</td>\n",
       "        <td style=\"padding-left: 1em; padding-right: 1em; text-align: center; vertical-align: top\">808.451</td>\n",
       "        <td style=\"padding-left: 1em; padding-right: 1em; text-align: center; vertical-align: top\">0.00609544</td>\n",
       "        <td style=\"padding-left: 1em; padding-right: 1em; text-align: center; vertical-align: top\">27.4886</td>\n",
       "        <td style=\"padding-left: 1em; padding-right: 1em; text-align: center; vertical-align: top\">4509.69905372</td>\n",
       "        <td style=\"padding-left: 1em; padding-right: 1em; text-align: center; vertical-align: top\">96.5</td>\n",
       "    </tr>\n",
       "    <tr>\n",
       "        <td style=\"padding-left: 1em; padding-right: 1em; text-align: center; vertical-align: top\">17</td>\n",
       "        <td style=\"padding-left: 1em; padding-right: 1em; text-align: center; vertical-align: top\">193</td>\n",
       "        <td style=\"padding-left: 1em; padding-right: 1em; text-align: center; vertical-align: top\">3976c00509725b5af5b8822d8<br>2d3900c ...</td>\n",
       "        <td style=\"padding-left: 1em; padding-right: 1em; text-align: center; vertical-align: top\">807.177</td>\n",
       "        <td style=\"padding-left: 1em; padding-right: 1em; text-align: center; vertical-align: top\">0.00608583</td>\n",
       "        <td style=\"padding-left: 1em; padding-right: 1em; text-align: center; vertical-align: top\">27.4886</td>\n",
       "        <td style=\"padding-left: 1em; padding-right: 1em; text-align: center; vertical-align: top\">4516.82022009</td>\n",
       "        <td style=\"padding-left: 1em; padding-right: 1em; text-align: center; vertical-align: top\">104.5</td>\n",
       "    </tr>\n",
       "</table>\n",
       "[10 rows x 8 columns]<br/>\n",
       "</div>"
      ],
      "text/plain": [
       "Columns:\n",
       "\tpcpc_rank\tint\n",
       "\tpctr_rank\tint\n",
       "\tbidid\tstr\n",
       "\tbidprice\tfloat\n",
       "\tpctr\tfloat\n",
       "\tpayprice\tfloat\n",
       "\tpcpc\tfloat\n",
       "\trank\tfloat\n",
       "\n",
       "Rows: 10\n",
       "\n",
       "Data:\n",
       "+-----------+-----------+-------------------------------+----------+------------+\n",
       "| pcpc_rank | pctr_rank |             bidid             | bidprice |    pctr    |\n",
       "+-----------+-----------+-------------------------------+----------+------------+\n",
       "|     8     |    129    | 54c9b105ef3d7da7e78c3bf5c9... |  812.47  | 0.00612574 |\n",
       "|     9     |    131    | d098a9fd83491f9fbd0ae64d2f... |  812.47  | 0.00612574 |\n",
       "|     10    |    135    | 552c98e24466c095af33dbd79a... | 812.274  | 0.00612426 |\n",
       "|     11    |    134    | a62bc641c61370872e69318d45... | 812.274  | 0.00612426 |\n",
       "|     12    |    143    | f24fbd951cc76504e1e5a96478... | 810.999  | 0.00611465 |\n",
       "|     13    |    149    | 648ec1e89b138accb6f71e91a6... | 809.921  | 0.00610652 |\n",
       "|     15    |    165    | 2e3abeb14a51aab78be58c1496... | 809.726  | 0.00610505 |\n",
       "|     14    |    167    | fca96dad601a24a3d48f146151... | 809.726  | 0.00610505 |\n",
       "|     16    |    178    | f85840c8069f8a73e0e43b34fc... | 808.451  | 0.00609544 |\n",
       "|     17    |    193    | 3976c00509725b5af5b8822d82... | 807.177  | 0.00608583 |\n",
       "+-----------+-----------+-------------------------------+----------+------------+\n",
       "+----------+---------------+-------+\n",
       "| payprice |      pcpc     |  rank |\n",
       "+----------+---------------+-------+\n",
       "| 27.4886  | 4487.39254359 |  68.0 |\n",
       "| 27.4886  | 4487.39254359 |  69.5 |\n",
       "| 27.4886  | 4488.47697518 |  72.0 |\n",
       "| 27.4886  | 4488.47697518 |  72.0 |\n",
       "| 27.4886  | 4495.53122419 |  77.0 |\n",
       "| 27.4886  | 4501.51641197 |  80.5 |\n",
       "| 27.4886  |  4502.6003063 |  89.5 |\n",
       "| 27.4886  |  4502.6003063 |  90.0 |\n",
       "| 27.4886  | 4509.69905372 |  96.5 |\n",
       "| 27.4886  | 4516.82022009 | 104.5 |\n",
       "+----------+---------------+-------+\n",
       "[10 rows x 8 columns]"
      ]
     },
     "execution_count": 75,
     "metadata": {},
     "output_type": "execute_result"
    }
   ],
   "source": [
    "ranked_sf = combined_sf.add_row_number(column_name='pctr_rank',start=1)\n",
    "ranked_sf = ranked_sf.sort('pcpc', ascending=True)\n",
    "ranked_sf = ranked_sf.add_row_number(column_name='pcpc_rank',start=1)\n",
    "mixed_rank = (ranked_sf['pctr_rank'] + ranked_sf['pcpc_rank'])/2.0\n",
    "ranked_sf.add_column(mixed_rank,'rank')\n",
    "ranked_sf = ranked_sf.sort('rank', ascending=True)\n",
    "ranked_sf.head()"
   ]
  },
  {
   "cell_type": "code",
   "execution_count": 77,
   "metadata": {
    "collapsed": false
   },
   "outputs": [
    {
     "name": "stdout",
     "output_type": "stream",
     "text": [
      "+-------------------------------+----------+\n",
      "|             bidid             | bidprice |\n",
      "+-------------------------------+----------+\n",
      "| 54c9b105ef3d7da7e78c3bf5c9... |  812.47  |\n",
      "| d098a9fd83491f9fbd0ae64d2f... |  812.47  |\n",
      "| 552c98e24466c095af33dbd79a... | 812.274  |\n",
      "| a62bc641c61370872e69318d45... | 812.274  |\n",
      "| f24fbd951cc76504e1e5a96478... | 810.999  |\n",
      "| 648ec1e89b138accb6f71e91a6... | 809.921  |\n",
      "| 2e3abeb14a51aab78be58c1496... | 809.726  |\n",
      "| fca96dad601a24a3d48f146151... | 809.726  |\n",
      "| f85840c8069f8a73e0e43b34fc... | 808.451  |\n",
      "| 3976c00509725b5af5b8822d82... | 807.177  |\n",
      "+-------------------------------+----------+\n",
      "[10 rows x 2 columns]\n",
      "\n"
     ]
    }
   ],
   "source": [
    "bids = ranked_sf.select_columns(['bidid','bidprice'])\n",
    "print bids.head(10)"
   ]
  },
  {
   "cell_type": "code",
   "execution_count": 79,
   "metadata": {
    "collapsed": false
   },
   "outputs": [],
   "source": [
    "bids.save('submission_bidprice_by_pctr_pcpc.csv', format='csv')"
   ]
  }
 ],
 "metadata": {
  "kernelspec": {
   "display_name": "Python [conda env:gl-env]",
   "language": "python",
   "name": "conda-env-gl-env-py"
  },
  "language_info": {
   "codemirror_mode": {
    "name": "ipython",
    "version": 2
   },
   "file_extension": ".py",
   "mimetype": "text/x-python",
   "name": "python",
   "nbconvert_exporter": "python",
   "pygments_lexer": "ipython2",
   "version": "2.7.11"
  }
 },
 "nbformat": 4,
 "nbformat_minor": 0
}
