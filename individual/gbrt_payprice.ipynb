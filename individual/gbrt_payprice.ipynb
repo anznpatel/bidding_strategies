{
 "cells": [
  {
   "cell_type": "code",
   "execution_count": 1,
   "metadata": {
    "collapsed": false
   },
   "outputs": [
    {
     "name": "stderr",
     "output_type": "stream",
     "text": [
      "[INFO] graphlab.cython.cy_server: GraphLab Create v2.1 started. Logging: /tmp/graphlab_server_1492174540.log\n"
     ]
    },
    {
     "name": "stdout",
     "output_type": "stream",
     "text": [
      "This non-commercial license of GraphLab Create for academic use is assigned to ucabatb@ucl.ac.uk and will expire on March 14, 2018.\n"
     ]
    },
    {
     "data": {
      "text/html": [
       "<pre>Finished parsing file /Users/Anish/Desktop/Uni/Modules/Masters/Web Economics/project/dataset/train.csv</pre>"
      ],
      "text/plain": [
       "Finished parsing file /Users/Anish/Desktop/Uni/Modules/Masters/Web Economics/project/dataset/train.csv"
      ]
     },
     "metadata": {},
     "output_type": "display_data"
    },
    {
     "data": {
      "text/html": [
       "<pre>Parsing completed. Parsed 100 lines in 1.01904 secs.</pre>"
      ],
      "text/plain": [
       "Parsing completed. Parsed 100 lines in 1.01904 secs."
      ]
     },
     "metadata": {},
     "output_type": "display_data"
    },
    {
     "name": "stdout",
     "output_type": "stream",
     "text": [
      "------------------------------------------------------\n",
      "Inferred types from first 100 line(s) of file as \n",
      "column_type_hints=[int,int,int,str,int,str,str,str,int,int,str,str,str,str,str,int,int,str,str,int,str,int,int,str,int,str]\n",
      "If parsing fails due to incorrect types, you can correct\n",
      "the inferred type list above and pass it to read_csv in\n",
      "the column_type_hints argument\n",
      "------------------------------------------------------\n"
     ]
    },
    {
     "data": {
      "text/html": [
       "<pre>Read 186256 lines. Lines per second: 120931</pre>"
      ],
      "text/plain": [
       "Read 186256 lines. Lines per second: 120931"
      ]
     },
     "metadata": {},
     "output_type": "display_data"
    },
    {
     "data": {
      "text/html": [
       "<pre>Read 1303583 lines. Lines per second: 178133</pre>"
      ],
      "text/plain": [
       "Read 1303583 lines. Lines per second: 178133"
      ]
     },
     "metadata": {},
     "output_type": "display_data"
    },
    {
     "data": {
      "text/html": [
       "<pre>Read 2234670 lines. Lines per second: 178779</pre>"
      ],
      "text/plain": [
       "Read 2234670 lines. Lines per second: 178779"
      ]
     },
     "metadata": {},
     "output_type": "display_data"
    },
    {
     "data": {
      "text/html": [
       "<pre>Finished parsing file /Users/Anish/Desktop/Uni/Modules/Masters/Web Economics/project/dataset/train.csv</pre>"
      ],
      "text/plain": [
       "Finished parsing file /Users/Anish/Desktop/Uni/Modules/Masters/Web Economics/project/dataset/train.csv"
      ]
     },
     "metadata": {},
     "output_type": "display_data"
    },
    {
     "data": {
      "text/html": [
       "<pre>Parsing completed. Parsed 2697738 lines in 14.9751 secs.</pre>"
      ],
      "text/plain": [
       "Parsing completed. Parsed 2697738 lines in 14.9751 secs."
      ]
     },
     "metadata": {},
     "output_type": "display_data"
    },
    {
     "data": {
      "text/html": [
       "<pre>Finished parsing file /Users/Anish/Desktop/Uni/Modules/Masters/Web Economics/project/dataset/validation.csv</pre>"
      ],
      "text/plain": [
       "Finished parsing file /Users/Anish/Desktop/Uni/Modules/Masters/Web Economics/project/dataset/validation.csv"
      ]
     },
     "metadata": {},
     "output_type": "display_data"
    },
    {
     "data": {
      "text/html": [
       "<pre>Parsing completed. Parsed 100 lines in 0.995127 secs.</pre>"
      ],
      "text/plain": [
       "Parsing completed. Parsed 100 lines in 0.995127 secs."
      ]
     },
     "metadata": {},
     "output_type": "display_data"
    },
    {
     "name": "stdout",
     "output_type": "stream",
     "text": [
      "------------------------------------------------------\n",
      "Inferred types from first 100 line(s) of file as \n",
      "column_type_hints=[int,int,int,str,int,str,str,str,int,int,str,str,str,str,str,int,int,str,str,int,str,int,int,str,int,str]\n",
      "If parsing fails due to incorrect types, you can correct\n",
      "the inferred type list above and pass it to read_csv in\n",
      "the column_type_hints argument\n",
      "------------------------------------------------------\n"
     ]
    },
    {
     "data": {
      "text/html": [
       "<pre>Read 186177 lines. Lines per second: 135893</pre>"
      ],
      "text/plain": [
       "Read 186177 lines. Lines per second: 135893"
      ]
     },
     "metadata": {},
     "output_type": "display_data"
    },
    {
     "data": {
      "text/html": [
       "<pre>Finished parsing file /Users/Anish/Desktop/Uni/Modules/Masters/Web Economics/project/dataset/validation.csv</pre>"
      ],
      "text/plain": [
       "Finished parsing file /Users/Anish/Desktop/Uni/Modules/Masters/Web Economics/project/dataset/validation.csv"
      ]
     },
     "metadata": {},
     "output_type": "display_data"
    },
    {
     "data": {
      "text/html": [
       "<pre>Parsing completed. Parsed 299749 lines in 1.8311 secs.</pre>"
      ],
      "text/plain": [
       "Parsing completed. Parsed 299749 lines in 1.8311 secs."
      ]
     },
     "metadata": {},
     "output_type": "display_data"
    },
    {
     "data": {
      "text/html": [
       "<pre>Finished parsing file /Users/Anish/Desktop/Uni/Modules/Masters/Web Economics/project/dataset/test.csv</pre>"
      ],
      "text/plain": [
       "Finished parsing file /Users/Anish/Desktop/Uni/Modules/Masters/Web Economics/project/dataset/test.csv"
      ]
     },
     "metadata": {},
     "output_type": "display_data"
    },
    {
     "data": {
      "text/html": [
       "<pre>Parsing completed. Parsed 100 lines in 0.982002 secs.</pre>"
      ],
      "text/plain": [
       "Parsing completed. Parsed 100 lines in 0.982002 secs."
      ]
     },
     "metadata": {},
     "output_type": "display_data"
    },
    {
     "name": "stdout",
     "output_type": "stream",
     "text": [
      "------------------------------------------------------\n",
      "Inferred types from first 100 line(s) of file as \n",
      "column_type_hints=[int,int,str,int,str,str,str,int,int,str,str,str,str,str,int,int,str,str,int,str,str,int,str]\n",
      "If parsing fails due to incorrect types, you can correct\n",
      "the inferred type list above and pass it to read_csv in\n",
      "the column_type_hints argument\n",
      "------------------------------------------------------\n"
     ]
    },
    {
     "data": {
      "text/html": [
       "<pre>Finished parsing file /Users/Anish/Desktop/Uni/Modules/Masters/Web Economics/project/dataset/test.csv</pre>"
      ],
      "text/plain": [
       "Finished parsing file /Users/Anish/Desktop/Uni/Modules/Masters/Web Economics/project/dataset/test.csv"
      ]
     },
     "metadata": {},
     "output_type": "display_data"
    },
    {
     "data": {
      "text/html": [
       "<pre>Parsing completed. Parsed 299749 lines in 1.85489 secs.</pre>"
      ],
      "text/plain": [
       "Parsing completed. Parsed 299749 lines in 1.85489 secs."
      ]
     },
     "metadata": {},
     "output_type": "display_data"
    },
    {
     "name": "stdout",
     "output_type": "stream",
     "text": [
      "+-------+---------+------+-------------------------------+---------+\n",
      "| click | weekday | hour |             bidid             | logtype |\n",
      "+-------+---------+------+-------------------------------+---------+\n",
      "|   0   |    1    |  14  | fdfae6789b787899f1b875de3a... |    1    |\n",
      "|   0   |    2    |  20  | 372883147cdefbc495fb5082f7... |    1    |\n",
      "|   0   |    5    |  9   | 2912cb5947e1fad450e2473c2f... |    1    |\n",
      "|   0   |    2    |  20  | d7b7d61d1e50e1d27d210928d2... |    1    |\n",
      "|   0   |    6    |  9   | 657d317dc4045bb79c2652abbe... |    1    |\n",
      "+-------+---------+------+-------------------------------+---------+\n",
      "+-------------------+----------------+---------------+--------+------+------------+\n",
      "|       userid      |   useragent    |       IP      | region | city | adexchange |\n",
      "+-------------------+----------------+---------------+--------+------+------------+\n",
      "| u_Vh1OPkFv3q5CFdR |   windows_ie   | 180.107.112.* |   80   |  85  |     2      |\n",
      "| u_VhkRL6dCOTLsq-c | windows_chrome | 125.120.199.* |   94   |  95  |     2      |\n",
      "| u_VhkyORMrD8TP3GL |   windows_ie   |  120.196.64.* |  216   | 217  |     1      |\n",
      "| u_VhkyLRqVL2a4eWL |   windows_ie   | 219.131.122.* |  216   | 221  |     2      |\n",
      "| u_Vh1zOJuQOtTCBgL | windows_chrome |  123.190.78.* |   40   |  48  |     1      |\n",
      "+-------------------+----------------+---------------+--------+------+------------+\n",
      "+----------------------+-------------------------------+-------+\n",
      "|        domain        |              url              | urlid |\n",
      "+----------------------+-------------------------------+-------+\n",
      "| trqRTuToMTNUjM9r5rMi | d48a96ab59d7ad741a48e781de... |  null |\n",
      "|  trqRTv14MqTR1m58uG  | 313e110c149d24b3236165d308... |  null |\n",
      "|    trqRTJTxX5scg4    | 845b72208c27b993daa11c8104... |  null |\n",
      "| trqRTuMvjTN7X9KbuKz  | ea6709db2703ae8698755629f1... |  null |\n",
      "|   trqRTu1YP5scFsf    | b7b8e74eefbdd5cc1a9f0acb2e... |  null |\n",
      "+----------------------+-------------------------------+-------+\n",
      "+------------------------------+-----------+------------+----------------+------------+\n",
      "|            slotid            | slotwidth | slotheight | slotvisibility | slotformat |\n",
      "+------------------------------+-----------+------------+----------------+------------+\n",
      "|          433287550           |    468    |     60     |       1        |     0      |\n",
      "|          2264242698          |    250    |    250     |       1        |     0      |\n",
      "| mm_40135906_3486753_11388735 |    336    |    280     |       0        |     1      |\n",
      "|          2536830969          |    728    |     90     |       0        |     0      |\n",
      "| mm_10075660_3500949_11453278 |    950    |     90     |       0        |     1      |\n",
      "+------------------------------+-----------+------------+----------------+------------+\n",
      "+-----------+-----+\n",
      "| slotprice | ... |\n",
      "+-----------+-----+\n",
      "|     5     | ... |\n",
      "|     5     | ... |\n",
      "|     0     | ... |\n",
      "|    162    | ... |\n",
      "|     0     | ... |\n",
      "+-----------+-----+\n",
      "[5 rows x 26 columns]\n",
      "\n",
      "+-------+---------+------+-------------------------------+---------+\n",
      "| click | weekday | hour |             bidid             | logtype |\n",
      "+-------+---------+------+-------------------------------+---------+\n",
      "|   0   |    5    |  14  | 91c6a6b9e90c0f54d3230815a5... |    1    |\n",
      "|   0   |    3    |  14  | 24b3621ad3b063b6c09c541781... |    1    |\n",
      "|   0   |    1    |  13  | 6e7bce0a9ad42f479827d37bf9... |    1    |\n",
      "|   0   |    5    |  18  | 6873feca381b8293bf418ba840... |    1    |\n",
      "|   0   |    5    |  14  | 7e6430333c552cf0b32bb21dc7... |    1    |\n",
      "+-------+---------+------+-------------------------------+---------+\n",
      "+-------------------+----------------+---------------+--------+------+------------+\n",
      "|       userid      |   useragent    |       IP      | region | city | adexchange |\n",
      "+-------------------+----------------+---------------+--------+------+------------+\n",
      "| u_Vhk7C5STO8TZ3s8 |   windows_ie   |  14.122.240.* |  216   | 232  |     1      |\n",
      "|   u_DANDbCAksMy   | android_safari |  116.22.55.*  |  216   | 217  |    null    |\n",
      "| u_VhkxPnKHPo1H3Vb |   windows_ie   |  60.215.242.* |  146   | 149  |     3      |\n",
      "| u_Vh5zL3B83ln9Xbl | windows_chrome |  27.193.87.*  |  146   | 148  |     3      |\n",
      "| u_VhKPOr5wOt9HQsj |   windows_ie   | 183.228.214.* |  275   | 275  |     2      |\n",
      "+-------------------+----------------+---------------+--------+------+------------+\n",
      "+---------------------+-------------------------------+-------+\n",
      "|        domain       |              url              | urlid |\n",
      "+---------------------+-------------------------------+-------+\n",
      "|   trqRTJ27Pea7gspy  | b3f4c620ae8d3df230fca2fbed... |  null |\n",
      "|         null        |              null             |  null |\n",
      "| 3FKElpuEMusyJqKbuKz | 27a9c5cbd0466a2f4b089606f1... |  null |\n",
      "|   DD1SqS9rg5scFsf   | 99d9720ba79b9826bc10cd822b... |  null |\n",
      "|         null        | b99ce18c1023c0619f1708cf52... |  null |\n",
      "+---------------------+-------------------------------+-------+\n",
      "+------------------------------+-----------+------------+----------------+------------+\n",
      "|            slotid            | slotwidth | slotheight | slotvisibility | slotformat |\n",
      "+------------------------------+-----------+------------+----------------+------------+\n",
      "| mm_34061467_3440569_11228047 |    300    |    250     |       0        |     1      |\n",
      "|              1               |    320    |     50     |   FirstView    |     Na     |\n",
      "|      ALLINONE_F_Width1       |    1000   |     90     |       0        |     0      |\n",
      "|      ALLINONE_F_Width1       |    1000   |     90     |       0        |     0      |\n",
      "|          4171454515          |    336    |    280     |       2        |     0      |\n",
      "+------------------------------+-----------+------------+----------------+------------+\n",
      "+-----------+-----+\n",
      "| slotprice | ... |\n",
      "+-----------+-----+\n",
      "|     0     | ... |\n",
      "|    118    | ... |\n",
      "|     70    | ... |\n",
      "|     70    | ... |\n",
      "|     5     | ... |\n",
      "+-----------+-----+\n",
      "[5 rows x 26 columns]\n",
      "\n"
     ]
    }
   ],
   "source": [
    "import graphlab as gl\n",
    "\n",
    "# Load the data\n",
    "train_data = gl.SFrame('train.csv')\n",
    "val_data = gl.SFrame('validation.csv')\n",
    "test_data = gl.SFrame('test.csv')\n",
    "\n",
    "print(train_data.head(5))\n",
    "print(val_data.head(5))"
   ]
  },
  {
   "cell_type": "code",
   "execution_count": 2,
   "metadata": {
    "collapsed": true
   },
   "outputs": [
    {
     "data": {
      "text/html": [
       "<pre>Boosted trees regression:</pre>"
      ],
      "text/plain": [
       "Boosted trees regression:"
      ]
     },
     "metadata": {},
     "output_type": "display_data"
    },
    {
     "data": {
      "text/html": [
       "<pre>--------------------------------------------------------</pre>"
      ],
      "text/plain": [
       "--------------------------------------------------------"
      ]
     },
     "metadata": {},
     "output_type": "display_data"
    },
    {
     "data": {
      "text/html": [
       "<pre>Number of examples          : 2697738</pre>"
      ],
      "text/plain": [
       "Number of examples          : 2697738"
      ]
     },
     "metadata": {},
     "output_type": "display_data"
    },
    {
     "data": {
      "text/html": [
       "<pre>Number of features          : 5</pre>"
      ],
      "text/plain": [
       "Number of features          : 5"
      ]
     },
     "metadata": {},
     "output_type": "display_data"
    },
    {
     "data": {
      "text/html": [
       "<pre>Number of unpacked features : 5</pre>"
      ],
      "text/plain": [
       "Number of unpacked features : 5"
      ]
     },
     "metadata": {},
     "output_type": "display_data"
    },
    {
     "data": {
      "text/html": [
       "<pre>+-----------+--------------+--------------------+----------------------+---------------+-----------------+</pre>"
      ],
      "text/plain": [
       "+-----------+--------------+--------------------+----------------------+---------------+-----------------+"
      ]
     },
     "metadata": {},
     "output_type": "display_data"
    },
    {
     "data": {
      "text/html": [
       "<pre>| Iteration | Elapsed Time | Training-max_error | Validation-max_error | Training-rmse | Validation-rmse |</pre>"
      ],
      "text/plain": [
       "| Iteration | Elapsed Time | Training-max_error | Validation-max_error | Training-rmse | Validation-rmse |"
      ]
     },
     "metadata": {},
     "output_type": "display_data"
    },
    {
     "data": {
      "text/html": [
       "<pre>+-----------+--------------+--------------------+----------------------+---------------+-----------------+</pre>"
      ],
      "text/plain": [
       "+-----------+--------------+--------------------+----------------------+---------------+-----------------+"
      ]
     },
     "metadata": {},
     "output_type": "display_data"
    },
    {
     "data": {
      "text/html": [
       "<pre>| 1         | 1.163172     | 287.388580         | 287.388580           | 81.417122     | 81.413727       |</pre>"
      ],
      "text/plain": [
       "| 1         | 1.163172     | 287.388580         | 287.388580           | 81.417122     | 81.413727       |"
      ]
     },
     "metadata": {},
     "output_type": "display_data"
    },
    {
     "data": {
      "text/html": [
       "<pre>| 2         | 2.405348     | 277.338928         | 277.338928           | 69.607773     | 69.616837       |</pre>"
      ],
      "text/plain": [
       "| 2         | 2.405348     | 277.338928         | 277.338928           | 69.607773     | 69.616837       |"
      ]
     },
     "metadata": {},
     "output_type": "display_data"
    },
    {
     "data": {
      "text/html": [
       "<pre>| 3         | 3.590979     | 270.494690         | 270.494690           | 62.964954     | 62.983166       |</pre>"
      ],
      "text/plain": [
       "| 3         | 3.590979     | 270.494690         | 270.494690           | 62.964954     | 62.983166       |"
      ]
     },
     "metadata": {},
     "output_type": "display_data"
    },
    {
     "data": {
      "text/html": [
       "<pre>| 4         | 5.100879     | 262.755615         | 262.755615           | 59.315216     | 59.344246       |</pre>"
      ],
      "text/plain": [
       "| 4         | 5.100879     | 262.755615         | 262.755615           | 59.315216     | 59.344246       |"
      ]
     },
     "metadata": {},
     "output_type": "display_data"
    },
    {
     "data": {
      "text/html": [
       "<pre>| 5         | 6.335352     | 260.844666         | 260.844666           | 57.421055     | 57.448334       |</pre>"
      ],
      "text/plain": [
       "| 5         | 6.335352     | 260.844666         | 260.844666           | 57.421055     | 57.448334       |"
      ]
     },
     "metadata": {},
     "output_type": "display_data"
    },
    {
     "data": {
      "text/html": [
       "<pre>| 6         | 7.453479     | 257.742004         | 257.742004           | 56.457241     | 56.484409       |</pre>"
      ],
      "text/plain": [
       "| 6         | 7.453479     | 257.742004         | 257.742004           | 56.457241     | 56.484409       |"
      ]
     },
     "metadata": {},
     "output_type": "display_data"
    },
    {
     "data": {
      "text/html": [
       "<pre>| 7         | 8.537789     | 256.644440         | 255.893860           | 55.964443     | 55.989986       |</pre>"
      ],
      "text/plain": [
       "| 7         | 8.537789     | 256.644440         | 255.893860           | 55.964443     | 55.989986       |"
      ]
     },
     "metadata": {},
     "output_type": "display_data"
    },
    {
     "data": {
      "text/html": [
       "<pre>| 8         | 9.587177     | 254.479187         | 253.728622           | 55.650097     | 55.675358       |</pre>"
      ],
      "text/plain": [
       "| 8         | 9.587177     | 254.479187         | 253.728622           | 55.650097     | 55.675358       |"
      ]
     },
     "metadata": {},
     "output_type": "display_data"
    },
    {
     "data": {
      "text/html": [
       "<pre>| 9         | 10.747627    | 253.832123         | 253.832123           | 55.481392     | 55.504009       |</pre>"
      ],
      "text/plain": [
       "| 9         | 10.747627    | 253.832123         | 253.832123           | 55.481392     | 55.504009       |"
      ]
     },
     "metadata": {},
     "output_type": "display_data"
    },
    {
     "data": {
      "text/html": [
       "<pre>| 10        | 11.769548    | 253.256104         | 253.256104           | 55.396542     | 55.421028       |</pre>"
      ],
      "text/plain": [
       "| 10        | 11.769548    | 253.256104         | 253.256104           | 55.396542     | 55.421028       |"
      ]
     },
     "metadata": {},
     "output_type": "display_data"
    },
    {
     "data": {
      "text/html": [
       "<pre>| 11        | 12.829493    | 254.230469         | 254.230469           | 55.304913     | 55.329723       |</pre>"
      ],
      "text/plain": [
       "| 11        | 12.829493    | 254.230469         | 254.230469           | 55.304913     | 55.329723       |"
      ]
     },
     "metadata": {},
     "output_type": "display_data"
    },
    {
     "data": {
      "text/html": [
       "<pre>| 12        | 13.846693    | 254.198822         | 254.198822           | 55.269695     | 55.294804       |</pre>"
      ],
      "text/plain": [
       "| 12        | 13.846693    | 254.198822         | 254.198822           | 55.269695     | 55.294804       |"
      ]
     },
     "metadata": {},
     "output_type": "display_data"
    },
    {
     "data": {
      "text/html": [
       "<pre>| 13        | 15.003431    | 254.112518         | 254.112518           | 55.235149     | 55.259682       |</pre>"
      ],
      "text/plain": [
       "| 13        | 15.003431    | 254.112518         | 254.112518           | 55.235149     | 55.259682       |"
      ]
     },
     "metadata": {},
     "output_type": "display_data"
    },
    {
     "data": {
      "text/html": [
       "<pre>| 14        | 16.030844    | 253.371796         | 253.371796           | 55.194355     | 55.217918       |</pre>"
      ],
      "text/plain": [
       "| 14        | 16.030844    | 253.371796         | 253.371796           | 55.194355     | 55.217918       |"
      ]
     },
     "metadata": {},
     "output_type": "display_data"
    },
    {
     "data": {
      "text/html": [
       "<pre>| 15        | 17.045154    | 253.263229         | 253.263229           | 55.185646     | 55.209900       |</pre>"
      ],
      "text/plain": [
       "| 15        | 17.045154    | 253.263229         | 253.263229           | 55.185646     | 55.209900       |"
      ]
     },
     "metadata": {},
     "output_type": "display_data"
    },
    {
     "data": {
      "text/html": [
       "<pre>| 16        | 18.201533    | 253.481049         | 253.481049           | 55.161007     | 55.185532       |</pre>"
      ],
      "text/plain": [
       "| 16        | 18.201533    | 253.481049         | 253.481049           | 55.161007     | 55.185532       |"
      ]
     },
     "metadata": {},
     "output_type": "display_data"
    },
    {
     "data": {
      "text/html": [
       "<pre>| 17        | 19.202542    | 252.871063         | 252.871063           | 55.147316     | 55.171223       |</pre>"
      ],
      "text/plain": [
       "| 17        | 19.202542    | 252.871063         | 252.871063           | 55.147316     | 55.171223       |"
      ]
     },
     "metadata": {},
     "output_type": "display_data"
    },
    {
     "data": {
      "text/html": [
       "<pre>| 18        | 20.391599    | 252.790131         | 252.790131           | 55.138767     | 55.162601       |</pre>"
      ],
      "text/plain": [
       "| 18        | 20.391599    | 252.790131         | 252.790131           | 55.138767     | 55.162601       |"
      ]
     },
     "metadata": {},
     "output_type": "display_data"
    },
    {
     "data": {
      "text/html": [
       "<pre>| 19        | 21.396104    | 252.096313         | 252.096313           | 55.082191     | 55.107521       |</pre>"
      ],
      "text/plain": [
       "| 19        | 21.396104    | 252.096313         | 252.096313           | 55.082191     | 55.107521       |"
      ]
     },
     "metadata": {},
     "output_type": "display_data"
    },
    {
     "data": {
      "text/html": [
       "<pre>| 20        | 22.420205    | 252.091202         | 252.091202           | 55.078724     | 55.104172       |</pre>"
      ],
      "text/plain": [
       "| 20        | 22.420205    | 252.091202         | 252.091202           | 55.078724     | 55.104172       |"
      ]
     },
     "metadata": {},
     "output_type": "display_data"
    },
    {
     "data": {
      "text/html": [
       "<pre>| 21        | 23.406689    | 251.917603         | 251.917603           | 55.075279     | 55.100838       |</pre>"
      ],
      "text/plain": [
       "| 21        | 23.406689    | 251.917603         | 251.917603           | 55.075279     | 55.100838       |"
      ]
     },
     "metadata": {},
     "output_type": "display_data"
    },
    {
     "data": {
      "text/html": [
       "<pre>| 22        | 24.439358    | 251.875748         | 251.875748           | 55.066296     | 55.091206       |</pre>"
      ],
      "text/plain": [
       "| 22        | 24.439358    | 251.875748         | 251.875748           | 55.066296     | 55.091206       |"
      ]
     },
     "metadata": {},
     "output_type": "display_data"
    },
    {
     "data": {
      "text/html": [
       "<pre>| 23        | 25.455277    | 254.024078         | 253.024078           | 55.020912     | 55.045238       |</pre>"
      ],
      "text/plain": [
       "| 23        | 25.455277    | 254.024078         | 253.024078           | 55.020912     | 55.045238       |"
      ]
     },
     "metadata": {},
     "output_type": "display_data"
    },
    {
     "data": {
      "text/html": [
       "<pre>| 24        | 26.599531    | 254.106293         | 253.106293           | 55.012760     | 55.037006       |</pre>"
      ],
      "text/plain": [
       "| 24        | 26.599531    | 254.106293         | 253.106293           | 55.012760     | 55.037006       |"
      ]
     },
     "metadata": {},
     "output_type": "display_data"
    },
    {
     "data": {
      "text/html": [
       "<pre>| 25        | 27.626505    | 254.080566         | 253.080566           | 55.007927     | 55.032623       |</pre>"
      ],
      "text/plain": [
       "| 25        | 27.626505    | 254.080566         | 253.080566           | 55.007927     | 55.032623       |"
      ]
     },
     "metadata": {},
     "output_type": "display_data"
    },
    {
     "data": {
      "text/html": [
       "<pre>| 26        | 28.656721    | 254.078766         | 253.078766           | 55.006428     | 55.031269       |</pre>"
      ],
      "text/plain": [
       "| 26        | 28.656721    | 254.078766         | 253.078766           | 55.006428     | 55.031269       |"
      ]
     },
     "metadata": {},
     "output_type": "display_data"
    },
    {
     "data": {
      "text/html": [
       "<pre>| 27        | 29.609915    | 258.288605         | 257.288605           | 54.990883     | 55.016678       |</pre>"
      ],
      "text/plain": [
       "| 27        | 29.609915    | 258.288605         | 257.288605           | 54.990883     | 55.016678       |"
      ]
     },
     "metadata": {},
     "output_type": "display_data"
    },
    {
     "data": {
      "text/html": [
       "<pre>| 28        | 30.831796    | 258.285675         | 257.285675           | 54.987457     | 55.013733       |</pre>"
      ],
      "text/plain": [
       "| 28        | 30.831796    | 258.285675         | 257.285675           | 54.987457     | 55.013733       |"
      ]
     },
     "metadata": {},
     "output_type": "display_data"
    },
    {
     "data": {
      "text/html": [
       "<pre>| 29        | 31.859413    | 258.251984         | 257.251984           | 54.985954     | 55.012756       |</pre>"
      ],
      "text/plain": [
       "| 29        | 31.859413    | 258.251984         | 257.251984           | 54.985954     | 55.012756       |"
      ]
     },
     "metadata": {},
     "output_type": "display_data"
    },
    {
     "data": {
      "text/html": [
       "<pre>| 30        | 32.806862    | 258.323578         | 257.323578           | 54.973457     | 55.001175       |</pre>"
      ],
      "text/plain": [
       "| 30        | 32.806862    | 258.323578         | 257.323578           | 54.973457     | 55.001175       |"
      ]
     },
     "metadata": {},
     "output_type": "display_data"
    },
    {
     "data": {
      "text/html": [
       "<pre>+-----------+--------------+--------------------+----------------------+---------------+-----------------+</pre>"
      ],
      "text/plain": [
       "+-----------+--------------+--------------------+----------------------+---------------+-----------------+"
      ]
     },
     "metadata": {},
     "output_type": "display_data"
    },
    {
     "name": "stdout",
     "output_type": "stream",
     "text": [
      "[107.06342315673828, 129.62286376953125, 81.15532684326172, 80.58625030517578, 68.33859252929688]\n"
     ]
    }
   ],
   "source": [
    "model = gl.boosted_trees_regression.create(train_data, target='payprice', validation_set=val_data, max_depth =  5, max_iterations=30, features=['slotprice', 'useragent', 'advertiser','adexchange', 'slotvisibility'])\n",
    "\n",
    "# Save predictions to an SFrame (class and corresponding class-probabilities)\n",
    "predictions = model.predict(val_data)\n",
    "\n",
    "# Evaluate the model and save the results into a dictionary\n",
    "results = model.evaluate(val_data)\n",
    "\n",
    "# Print the new predicted pay price values\n",
    "print(predictions.head(5))\n",
    "\n",
    "# Store the new values into a column called pctr\n",
    "new_data=val_data.add_column(predictions, name= 'ppayprice')\n",
    "\n",
    "# Create new file\n",
    "new_data.save('predicted_payprice_val.csv', format ='csv')"
   ]
  },
  {
   "cell_type": "code",
   "execution_count": 4,
   "metadata": {
    "collapsed": true
   },
   "outputs": [
    {
     "name": "stdout",
     "output_type": "stream",
     "text": [
      "[112.31361389160156, 80.61958312988281, 40.37186050415039, 86.2582778930664, 48.846336364746094]\n"
     ]
    }
   ],
   "source": [
    "# Save predictions to an SFrame (class and corresponding class-probabilities)\n",
    "test_predictions = model.predict(test_data)\n",
    "\n",
    "# Evaluate the model and save the results into a dictionary\n",
    "#test_results = model.evaluate(test_data)\n",
    "\n",
    "# Check how each feature has an impact on the predictions, positive or negative\n",
    "#test_coefs = model['coefficients']\n",
    "#print test_coefs\n",
    "\n",
    "# Print the new pCTR values\n",
    "print(test_predictions.head(5))"
   ]
  },
  {
   "cell_type": "code",
   "execution_count": 5,
   "metadata": {
    "collapsed": true
   },
   "outputs": [],
   "source": [
    "test_predictions = test_data.add_column(test_predictions, name='payprice')\n",
    "test_predictions.save('test_predictions_payprice.csv', format='csv')"
   ]
  },
  {
   "cell_type": "code",
   "execution_count": 7,
   "metadata": {
    "collapsed": true
   },
   "outputs": [
    {
     "data": {
      "text/html": [
       "<pre>Finished parsing file /Users/Anish/Desktop/Uni/Modules/Masters/Web Economics/project/dataset/test_predictions_payprice.csv</pre>"
      ],
      "text/plain": [
       "Finished parsing file /Users/Anish/Desktop/Uni/Modules/Masters/Web Economics/project/dataset/test_predictions_payprice.csv"
      ]
     },
     "metadata": {},
     "output_type": "display_data"
    },
    {
     "data": {
      "text/html": [
       "<pre>Parsing completed. Parsed 100 lines in 1.0493 secs.</pre>"
      ],
      "text/plain": [
       "Parsing completed. Parsed 100 lines in 1.0493 secs."
      ]
     },
     "metadata": {},
     "output_type": "display_data"
    },
    {
     "name": "stdout",
     "output_type": "stream",
     "text": [
      "------------------------------------------------------\n",
      "Inferred types from first 100 line(s) of file as \n",
      "column_type_hints=[int,int,str,int,str,str,str,int,int,str,str,str,str,str,int,int,str,str,int,str,str,int,str,float]\n",
      "If parsing fails due to incorrect types, you can correct\n",
      "the inferred type list above and pass it to read_csv in\n",
      "the column_type_hints argument\n",
      "------------------------------------------------------\n"
     ]
    },
    {
     "data": {
      "text/html": [
       "<pre>Read 187118 lines. Lines per second: 130662</pre>"
      ],
      "text/plain": [
       "Read 187118 lines. Lines per second: 130662"
      ]
     },
     "metadata": {},
     "output_type": "display_data"
    },
    {
     "data": {
      "text/html": [
       "<pre>Finished parsing file /Users/Anish/Desktop/Uni/Modules/Masters/Web Economics/project/dataset/test_predictions_payprice.csv</pre>"
      ],
      "text/plain": [
       "Finished parsing file /Users/Anish/Desktop/Uni/Modules/Masters/Web Economics/project/dataset/test_predictions_payprice.csv"
      ]
     },
     "metadata": {},
     "output_type": "display_data"
    },
    {
     "data": {
      "text/html": [
       "<pre>Parsing completed. Parsed 299749 lines in 1.95935 secs.</pre>"
      ],
      "text/plain": [
       "Parsing completed. Parsed 299749 lines in 1.95935 secs."
      ]
     },
     "metadata": {},
     "output_type": "display_data"
    }
   ],
   "source": [
    "predicted_data = gl.SFrame('test_predictions_payprice.csv')"
   ]
  },
  {
   "cell_type": "markdown",
   "metadata": {},
   "source": [
    "Mixing the two models (bidprice by pCTR and pCPC)"
   ]
  },
  {
   "cell_type": "code",
   "execution_count": 8,
   "metadata": {
    "collapsed": true
   },
   "outputs": [
    {
     "name": "stdout",
     "output_type": "stream",
     "text": [
      "[16.7264, 16.7264, 16.7264, 16.7264, 16.7264, 16.7264, 16.7264, 16.7264, 16.7264, 16.7264]\n"
     ]
    }
   ],
   "source": [
    "predicted_data = predicted_data.sort('payprice', ascending=True)\n",
    "pay_price = predicted_data['payprice']\n",
    "print pay_price.head(10)"
   ]
  }
 ],
 "metadata": {
  "kernelspec": {
   "display_name": "Python 2",
   "language": "python",
   "name": "python2"
  },
  "language_info": {
   "codemirror_mode": {
    "name": "ipython",
    "version": 2
   },
   "file_extension": ".py",
   "mimetype": "text/x-python",
   "name": "python",
   "nbconvert_exporter": "python",
   "pygments_lexer": "ipython2",
   "version": "2.7.13"
  }
 },
 "nbformat": 4,
 "nbformat_minor": 0
}
