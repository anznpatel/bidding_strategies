{
 "cells": [
  {
   "cell_type": "code",
   "execution_count": 1,
   "metadata": {
    "collapsed": true
   },
   "outputs": [
    {
     "name": "stderr",
     "output_type": "stream",
     "text": [
      "[INFO] graphlab.cython.cy_server: GraphLab Create v2.1 started. Logging: /tmp/graphlab_server_1491747212.log\n"
     ]
    },
    {
     "name": "stdout",
     "output_type": "stream",
     "text": [
      "This non-commercial license of GraphLab Create for academic use is assigned to ucabatb@ucl.ac.uk and will expire on March 14, 2018.\n"
     ]
    },
    {
     "data": {
      "text/html": [
       "<pre>Finished parsing file /Users/Anish/Desktop/Uni/Modules/Masters/Web Economics/project/dataset/train.csv</pre>"
      ],
      "text/plain": [
       "Finished parsing file /Users/Anish/Desktop/Uni/Modules/Masters/Web Economics/project/dataset/train.csv"
      ]
     },
     "metadata": {},
     "output_type": "display_data"
    },
    {
     "data": {
      "text/html": [
       "<pre>Parsing completed. Parsed 100 lines in 1.12188 secs.</pre>"
      ],
      "text/plain": [
       "Parsing completed. Parsed 100 lines in 1.12188 secs."
      ]
     },
     "metadata": {},
     "output_type": "display_data"
    },
    {
     "name": "stdout",
     "output_type": "stream",
     "text": [
      "------------------------------------------------------\n",
      "Inferred types from first 100 line(s) of file as \n",
      "column_type_hints=[int,int,int,str,int,str,str,str,int,int,str,str,str,str,str,int,int,str,str,int,str,int,int,str,int,str]\n",
      "If parsing fails due to incorrect types, you can correct\n",
      "the inferred type list above and pass it to read_csv in\n",
      "the column_type_hints argument\n",
      "------------------------------------------------------\n"
     ]
    },
    {
     "data": {
      "text/html": [
       "<pre>Read 186256 lines. Lines per second: 124269</pre>"
      ],
      "text/plain": [
       "Read 186256 lines. Lines per second: 124269"
      ]
     },
     "metadata": {},
     "output_type": "display_data"
    },
    {
     "data": {
      "text/html": [
       "<pre>Read 1303583 lines. Lines per second: 180753</pre>"
      ],
      "text/plain": [
       "Read 1303583 lines. Lines per second: 180753"
      ]
     },
     "metadata": {},
     "output_type": "display_data"
    },
    {
     "data": {
      "text/html": [
       "<pre>Read 2234670 lines. Lines per second: 180474</pre>"
      ],
      "text/plain": [
       "Read 2234670 lines. Lines per second: 180474"
      ]
     },
     "metadata": {},
     "output_type": "display_data"
    },
    {
     "data": {
      "text/html": [
       "<pre>Finished parsing file /Users/Anish/Desktop/Uni/Modules/Masters/Web Economics/project/dataset/train.csv</pre>"
      ],
      "text/plain": [
       "Finished parsing file /Users/Anish/Desktop/Uni/Modules/Masters/Web Economics/project/dataset/train.csv"
      ]
     },
     "metadata": {},
     "output_type": "display_data"
    },
    {
     "data": {
      "text/html": [
       "<pre>Parsing completed. Parsed 2697738 lines in 14.7527 secs.</pre>"
      ],
      "text/plain": [
       "Parsing completed. Parsed 2697738 lines in 14.7527 secs."
      ]
     },
     "metadata": {},
     "output_type": "display_data"
    },
    {
     "data": {
      "text/html": [
       "<pre>Finished parsing file /Users/Anish/Desktop/Uni/Modules/Masters/Web Economics/project/dataset/validation.csv</pre>"
      ],
      "text/plain": [
       "Finished parsing file /Users/Anish/Desktop/Uni/Modules/Masters/Web Economics/project/dataset/validation.csv"
      ]
     },
     "metadata": {},
     "output_type": "display_data"
    },
    {
     "data": {
      "text/html": [
       "<pre>Parsing completed. Parsed 100 lines in 0.973958 secs.</pre>"
      ],
      "text/plain": [
       "Parsing completed. Parsed 100 lines in 0.973958 secs."
      ]
     },
     "metadata": {},
     "output_type": "display_data"
    },
    {
     "name": "stdout",
     "output_type": "stream",
     "text": [
      "------------------------------------------------------\n",
      "Inferred types from first 100 line(s) of file as \n",
      "column_type_hints=[int,int,int,str,int,str,str,str,int,int,str,str,str,str,str,int,int,str,str,int,str,int,int,str,int,str]\n",
      "If parsing fails due to incorrect types, you can correct\n",
      "the inferred type list above and pass it to read_csv in\n",
      "the column_type_hints argument\n",
      "------------------------------------------------------\n"
     ]
    },
    {
     "data": {
      "text/html": [
       "<pre>Read 186177 lines. Lines per second: 136697</pre>"
      ],
      "text/plain": [
       "Read 186177 lines. Lines per second: 136697"
      ]
     },
     "metadata": {},
     "output_type": "display_data"
    },
    {
     "data": {
      "text/html": [
       "<pre>Finished parsing file /Users/Anish/Desktop/Uni/Modules/Masters/Web Economics/project/dataset/validation.csv</pre>"
      ],
      "text/plain": [
       "Finished parsing file /Users/Anish/Desktop/Uni/Modules/Masters/Web Economics/project/dataset/validation.csv"
      ]
     },
     "metadata": {},
     "output_type": "display_data"
    },
    {
     "data": {
      "text/html": [
       "<pre>Parsing completed. Parsed 299749 lines in 1.82198 secs.</pre>"
      ],
      "text/plain": [
       "Parsing completed. Parsed 299749 lines in 1.82198 secs."
      ]
     },
     "metadata": {},
     "output_type": "display_data"
    },
    {
     "data": {
      "text/html": [
       "<pre>Finished parsing file /Users/Anish/Desktop/Uni/Modules/Masters/Web Economics/project/dataset/test.csv</pre>"
      ],
      "text/plain": [
       "Finished parsing file /Users/Anish/Desktop/Uni/Modules/Masters/Web Economics/project/dataset/test.csv"
      ]
     },
     "metadata": {},
     "output_type": "display_data"
    },
    {
     "data": {
      "text/html": [
       "<pre>Parsing completed. Parsed 100 lines in 0.956406 secs.</pre>"
      ],
      "text/plain": [
       "Parsing completed. Parsed 100 lines in 0.956406 secs."
      ]
     },
     "metadata": {},
     "output_type": "display_data"
    },
    {
     "name": "stdout",
     "output_type": "stream",
     "text": [
      "------------------------------------------------------\n",
      "Inferred types from first 100 line(s) of file as \n",
      "column_type_hints=[int,int,str,int,str,str,str,int,int,str,str,str,str,str,int,int,str,str,int,str,str,int,str]\n",
      "If parsing fails due to incorrect types, you can correct\n",
      "the inferred type list above and pass it to read_csv in\n",
      "the column_type_hints argument\n",
      "------------------------------------------------------\n"
     ]
    },
    {
     "data": {
      "text/html": [
       "<pre>Finished parsing file /Users/Anish/Desktop/Uni/Modules/Masters/Web Economics/project/dataset/test.csv</pre>"
      ],
      "text/plain": [
       "Finished parsing file /Users/Anish/Desktop/Uni/Modules/Masters/Web Economics/project/dataset/test.csv"
      ]
     },
     "metadata": {},
     "output_type": "display_data"
    },
    {
     "data": {
      "text/html": [
       "<pre>Parsing completed. Parsed 299749 lines in 2.1047 secs.</pre>"
      ],
      "text/plain": [
       "Parsing completed. Parsed 299749 lines in 2.1047 secs."
      ]
     },
     "metadata": {},
     "output_type": "display_data"
    },
    {
     "name": "stdout",
     "output_type": "stream",
     "text": [
      "+-------+---------+------+-------------------------------+---------+\n",
      "| click | weekday | hour |             bidid             | logtype |\n",
      "+-------+---------+------+-------------------------------+---------+\n",
      "|   0   |    1    |  14  | fdfae6789b787899f1b875de3a... |    1    |\n",
      "|   0   |    2    |  20  | 372883147cdefbc495fb5082f7... |    1    |\n",
      "|   0   |    5    |  9   | 2912cb5947e1fad450e2473c2f... |    1    |\n",
      "|   0   |    2    |  20  | d7b7d61d1e50e1d27d210928d2... |    1    |\n",
      "|   0   |    6    |  9   | 657d317dc4045bb79c2652abbe... |    1    |\n",
      "+-------+---------+------+-------------------------------+---------+\n",
      "+-------------------+----------------+---------------+--------+------+------------+\n",
      "|       userid      |   useragent    |       IP      | region | city | adexchange |\n",
      "+-------------------+----------------+---------------+--------+------+------------+\n",
      "| u_Vh1OPkFv3q5CFdR |   windows_ie   | 180.107.112.* |   80   |  85  |     2      |\n",
      "| u_VhkRL6dCOTLsq-c | windows_chrome | 125.120.199.* |   94   |  95  |     2      |\n",
      "| u_VhkyORMrD8TP3GL |   windows_ie   |  120.196.64.* |  216   | 217  |     1      |\n",
      "| u_VhkyLRqVL2a4eWL |   windows_ie   | 219.131.122.* |  216   | 221  |     2      |\n",
      "| u_Vh1zOJuQOtTCBgL | windows_chrome |  123.190.78.* |   40   |  48  |     1      |\n",
      "+-------------------+----------------+---------------+--------+------+------------+\n",
      "+----------------------+-------------------------------+-------+\n",
      "|        domain        |              url              | urlid |\n",
      "+----------------------+-------------------------------+-------+\n",
      "| trqRTuToMTNUjM9r5rMi | d48a96ab59d7ad741a48e781de... |  null |\n",
      "|  trqRTv14MqTR1m58uG  | 313e110c149d24b3236165d308... |  null |\n",
      "|    trqRTJTxX5scg4    | 845b72208c27b993daa11c8104... |  null |\n",
      "| trqRTuMvjTN7X9KbuKz  | ea6709db2703ae8698755629f1... |  null |\n",
      "|   trqRTu1YP5scFsf    | b7b8e74eefbdd5cc1a9f0acb2e... |  null |\n",
      "+----------------------+-------------------------------+-------+\n",
      "+------------------------------+-----------+------------+----------------+------------+\n",
      "|            slotid            | slotwidth | slotheight | slotvisibility | slotformat |\n",
      "+------------------------------+-----------+------------+----------------+------------+\n",
      "|          433287550           |    468    |     60     |       1        |     0      |\n",
      "|          2264242698          |    250    |    250     |       1        |     0      |\n",
      "| mm_40135906_3486753_11388735 |    336    |    280     |       0        |     1      |\n",
      "|          2536830969          |    728    |     90     |       0        |     0      |\n",
      "| mm_10075660_3500949_11453278 |    950    |     90     |       0        |     1      |\n",
      "+------------------------------+-----------+------------+----------------+------------+\n",
      "+-----------+-----+\n",
      "| slotprice | ... |\n",
      "+-----------+-----+\n",
      "|     5     | ... |\n",
      "|     5     | ... |\n",
      "|     0     | ... |\n",
      "|    162    | ... |\n",
      "|     0     | ... |\n",
      "+-----------+-----+\n",
      "[5 rows x 26 columns]\n",
      "\n",
      "+-------+---------+------+-------------------------------+---------+\n",
      "| click | weekday | hour |             bidid             | logtype |\n",
      "+-------+---------+------+-------------------------------+---------+\n",
      "|   0   |    5    |  14  | 91c6a6b9e90c0f54d3230815a5... |    1    |\n",
      "|   0   |    3    |  14  | 24b3621ad3b063b6c09c541781... |    1    |\n",
      "|   0   |    1    |  13  | 6e7bce0a9ad42f479827d37bf9... |    1    |\n",
      "|   0   |    5    |  18  | 6873feca381b8293bf418ba840... |    1    |\n",
      "|   0   |    5    |  14  | 7e6430333c552cf0b32bb21dc7... |    1    |\n",
      "+-------+---------+------+-------------------------------+---------+\n",
      "+-------------------+----------------+---------------+--------+------+------------+\n",
      "|       userid      |   useragent    |       IP      | region | city | adexchange |\n",
      "+-------------------+----------------+---------------+--------+------+------------+\n",
      "| u_Vhk7C5STO8TZ3s8 |   windows_ie   |  14.122.240.* |  216   | 232  |     1      |\n",
      "|   u_DANDbCAksMy   | android_safari |  116.22.55.*  |  216   | 217  |    null    |\n",
      "| u_VhkxPnKHPo1H3Vb |   windows_ie   |  60.215.242.* |  146   | 149  |     3      |\n",
      "| u_Vh5zL3B83ln9Xbl | windows_chrome |  27.193.87.*  |  146   | 148  |     3      |\n",
      "| u_VhKPOr5wOt9HQsj |   windows_ie   | 183.228.214.* |  275   | 275  |     2      |\n",
      "+-------------------+----------------+---------------+--------+------+------------+\n",
      "+---------------------+-------------------------------+-------+\n",
      "|        domain       |              url              | urlid |\n",
      "+---------------------+-------------------------------+-------+\n",
      "|   trqRTJ27Pea7gspy  | b3f4c620ae8d3df230fca2fbed... |  null |\n",
      "|         null        |              null             |  null |\n",
      "| 3FKElpuEMusyJqKbuKz | 27a9c5cbd0466a2f4b089606f1... |  null |\n",
      "|   DD1SqS9rg5scFsf   | 99d9720ba79b9826bc10cd822b... |  null |\n",
      "|         null        | b99ce18c1023c0619f1708cf52... |  null |\n",
      "+---------------------+-------------------------------+-------+\n",
      "+------------------------------+-----------+------------+----------------+------------+\n",
      "|            slotid            | slotwidth | slotheight | slotvisibility | slotformat |\n",
      "+------------------------------+-----------+------------+----------------+------------+\n",
      "| mm_34061467_3440569_11228047 |    300    |    250     |       0        |     1      |\n",
      "|              1               |    320    |     50     |   FirstView    |     Na     |\n",
      "|      ALLINONE_F_Width1       |    1000   |     90     |       0        |     0      |\n",
      "|      ALLINONE_F_Width1       |    1000   |     90     |       0        |     0      |\n",
      "|          4171454515          |    336    |    280     |       2        |     0      |\n",
      "+------------------------------+-----------+------------+----------------+------------+\n",
      "+-----------+-----+\n",
      "| slotprice | ... |\n",
      "+-----------+-----+\n",
      "|     0     | ... |\n",
      "|    118    | ... |\n",
      "|     70    | ... |\n",
      "|     70    | ... |\n",
      "|     5     | ... |\n",
      "+-----------+-----+\n",
      "[5 rows x 26 columns]\n",
      "\n"
     ]
    }
   ],
   "source": [
    "import graphlab as gl\n",
    "\n",
    "# Load the data\n",
    "train_data = gl.SFrame('train.csv')\n",
    "val_data = gl.SFrame('validation.csv')\n",
    "test_data = gl.SFrame('test.csv')\n",
    "\n",
    "print(train_data.head(5))\n",
    "print(val_data.head(5))"
   ]
  },
  {
   "cell_type": "code",
   "execution_count": 3,
   "metadata": {
    "collapsed": false
   },
   "outputs": [
    {
     "data": {
      "text/html": [
       "<pre>Boosted trees regression:</pre>"
      ],
      "text/plain": [
       "Boosted trees regression:"
      ]
     },
     "metadata": {},
     "output_type": "display_data"
    },
    {
     "data": {
      "text/html": [
       "<pre>--------------------------------------------------------</pre>"
      ],
      "text/plain": [
       "--------------------------------------------------------"
      ]
     },
     "metadata": {},
     "output_type": "display_data"
    },
    {
     "data": {
      "text/html": [
       "<pre>Number of examples          : 2697738</pre>"
      ],
      "text/plain": [
       "Number of examples          : 2697738"
      ]
     },
     "metadata": {},
     "output_type": "display_data"
    },
    {
     "data": {
      "text/html": [
       "<pre>Number of features          : 3</pre>"
      ],
      "text/plain": [
       "Number of features          : 3"
      ]
     },
     "metadata": {},
     "output_type": "display_data"
    },
    {
     "data": {
      "text/html": [
       "<pre>Number of unpacked features : 3</pre>"
      ],
      "text/plain": [
       "Number of unpacked features : 3"
      ]
     },
     "metadata": {},
     "output_type": "display_data"
    },
    {
     "data": {
      "text/html": [
       "<pre>+-----------+--------------+--------------------+----------------------+---------------+-----------------+</pre>"
      ],
      "text/plain": [
       "+-----------+--------------+--------------------+----------------------+---------------+-----------------+"
      ]
     },
     "metadata": {},
     "output_type": "display_data"
    },
    {
     "data": {
      "text/html": [
       "<pre>| Iteration | Elapsed Time | Training-max_error | Validation-max_error | Training-rmse | Validation-rmse |</pre>"
      ],
      "text/plain": [
       "| Iteration | Elapsed Time | Training-max_error | Validation-max_error | Training-rmse | Validation-rmse |"
      ]
     },
     "metadata": {},
     "output_type": "display_data"
    },
    {
     "data": {
      "text/html": [
       "<pre>+-----------+--------------+--------------------+----------------------+---------------+-----------------+</pre>"
      ],
      "text/plain": [
       "+-----------+--------------+--------------------+----------------------+---------------+-----------------+"
      ]
     },
     "metadata": {},
     "output_type": "display_data"
    },
    {
     "data": {
      "text/html": [
       "<pre>| 1         | 0.821277     | 0.649774           | 0.649774             | 0.350549      | 0.350549        |</pre>"
      ],
      "text/plain": [
       "| 1         | 0.821277     | 0.649774           | 0.649774             | 0.350549      | 0.350549        |"
      ]
     },
     "metadata": {},
     "output_type": "display_data"
    },
    {
     "data": {
      "text/html": [
       "<pre>| 2         | 1.519260     | 0.754615           | 0.754615             | 0.246166      | 0.246166        |</pre>"
      ],
      "text/plain": [
       "| 2         | 1.519260     | 0.754615           | 0.754615             | 0.246166      | 0.246166        |"
      ]
     },
     "metadata": {},
     "output_type": "display_data"
    },
    {
     "data": {
      "text/html": [
       "<pre>| 3         | 2.227580     | 0.828005           | 0.828005             | 0.173427      | 0.173427        |</pre>"
      ],
      "text/plain": [
       "| 3         | 2.227580     | 0.828005           | 0.828005             | 0.173427      | 0.173427        |"
      ]
     },
     "metadata": {},
     "output_type": "display_data"
    },
    {
     "data": {
      "text/html": [
       "<pre>| 4         | 2.930129     | 0.879406           | 0.879406             | 0.122971      | 0.122971        |</pre>"
      ],
      "text/plain": [
       "| 4         | 2.930129     | 0.879406           | 0.879406             | 0.122971      | 0.122971        |"
      ]
     },
     "metadata": {},
     "output_type": "display_data"
    },
    {
     "data": {
      "text/html": [
       "<pre>| 5         | 3.861122     | 0.915456           | 0.915456             | 0.088283      | 0.088283        |</pre>"
      ],
      "text/plain": [
       "| 5         | 3.861122     | 0.915456           | 0.915456             | 0.088283      | 0.088283        |"
      ]
     },
     "metadata": {},
     "output_type": "display_data"
    },
    {
     "data": {
      "text/html": [
       "<pre>| 6         | 4.839658     | 0.940684           | 0.940684             | 0.064831      | 0.064831        |</pre>"
      ],
      "text/plain": [
       "| 6         | 4.839658     | 0.940684           | 0.940684             | 0.064831      | 0.064831        |"
      ]
     },
     "metadata": {},
     "output_type": "display_data"
    },
    {
     "data": {
      "text/html": [
       "<pre>| 10        | 8.955765     | 0.985571           | 0.985571             | 0.030852      | 0.030854        |</pre>"
      ],
      "text/plain": [
       "| 10        | 8.955765     | 0.985571           | 0.985571             | 0.030852      | 0.030854        |"
      ]
     },
     "metadata": {},
     "output_type": "display_data"
    },
    {
     "data": {
      "text/html": [
       "<pre>| 11        | 9.978472     | 0.989836           | 0.989836             | 0.029162      | 0.029163        |</pre>"
      ],
      "text/plain": [
       "| 11        | 9.978472     | 0.989836           | 0.989836             | 0.029162      | 0.029163        |"
      ]
     },
     "metadata": {},
     "output_type": "display_data"
    },
    {
     "data": {
      "text/html": [
       "<pre>| 15        | 14.154849    | 0.997454           | 0.997454             | 0.027541      | 0.027544        |</pre>"
      ],
      "text/plain": [
       "| 15        | 14.154849    | 0.997454           | 0.997454             | 0.027541      | 0.027544        |"
      ]
     },
     "metadata": {},
     "output_type": "display_data"
    },
    {
     "data": {
      "text/html": [
       "<pre>| 20        | 19.385037    | 0.999438           | 0.999624             | 0.027442      | 0.027445        |</pre>"
      ],
      "text/plain": [
       "| 20        | 19.385037    | 0.999438           | 0.999624             | 0.027442      | 0.027445        |"
      ]
     },
     "metadata": {},
     "output_type": "display_data"
    },
    {
     "data": {
      "text/html": [
       "<pre>| 25        | 24.792860    | 0.999811           | 0.999983             | 0.027439      | 0.027442        |</pre>"
      ],
      "text/plain": [
       "| 25        | 24.792860    | 0.999811           | 0.999983             | 0.027439      | 0.027442        |"
      ]
     },
     "metadata": {},
     "output_type": "display_data"
    },
    {
     "data": {
      "text/html": [
       "<pre>| 30        | 29.981562    | 0.999902           | 1.000079             | 0.027438      | 0.027442        |</pre>"
      ],
      "text/plain": [
       "| 30        | 29.981562    | 0.999902           | 1.000079             | 0.027438      | 0.027442        |"
      ]
     },
     "metadata": {},
     "output_type": "display_data"
    },
    {
     "data": {
      "text/html": [
       "<pre>+-----------+--------------+--------------------+----------------------+---------------+-----------------+</pre>"
      ],
      "text/plain": [
       "+-----------+--------------+--------------------+----------------------+---------------+-----------------+"
      ]
     },
     "metadata": {},
     "output_type": "display_data"
    },
    {
     "name": "stdout",
     "output_type": "stream",
     "text": [
      "[0.0007413029670715332, 0.003581434488296509, 0.0007713437080383301, 0.0010135769844055176, 0.0008228719234466553]\n"
     ]
    }
   ],
   "source": [
    "model = gl.boosted_trees_regression.create(train_data, target='click', validation_set=val_data, max_depth =  5, max_iterations=30, features=['weekday', 'hour', 'advertiser'])\n",
    "\n",
    "# Save predictions to an SFrame (class and corresponding class-probabilities)\n",
    "predictions = model.predict(val_data)\n",
    "\n",
    "# Evaluate the model and save the results into a dictionary\n",
    "results = model.evaluate(val_data)\n",
    "\n",
    "# Print the new pCTR values\n",
    "print(predictions.head(5))\n",
    "\n",
    "# Store the new values into a column called pctr\n",
    "new_data=val_data.add_column(predictions, name= 'pctr')\n",
    "\n",
    "# Create new file\n",
    "new_data.save('predicted_ctr_val.csv', format ='csv')"
   ]
  },
  {
   "cell_type": "code",
   "execution_count": 11,
   "metadata": {
    "collapsed": true
   },
   "outputs": [
    {
     "name": "stdout",
     "output_type": "stream",
     "text": [
      "[0.0008420348167419434, 0.0003732740879058838, 0.0007713437080383301, 0.0007811188697814941, 0.00016447901725769043]\n"
     ]
    }
   ],
   "source": [
    "# Save predictions to an SFrame (class and corresponding class-probabilities)\n",
    "test_predictions = model.predict(test_data)\n",
    "\n",
    "# Evaluate the model and save the results into a dictionary\n",
    "#test_results = model.evaluate(test_data)\n",
    "\n",
    "# Check how each feature has an impact on the predictions, positive or negative\n",
    "#test_coefs = model['coefficients']\n",
    "#print test_coefs\n",
    "\n",
    "# Print the new pCTR values\n",
    "print(test_predictions.head(5))"
   ]
  },
  {
   "cell_type": "code",
   "execution_count": 5,
   "metadata": {
    "collapsed": true
   },
   "outputs": [],
   "source": [
    "test_predictions = test_data.add_column(test_predictions, name='pctr')\n",
    "test_predictions.save('test_predictions.csv', format='csv')"
   ]
  },
  {
   "cell_type": "code",
   "execution_count": 6,
   "metadata": {
    "collapsed": true
   },
   "outputs": [
    {
     "data": {
      "text/html": [
       "<pre>Finished parsing file /Users/Anish/Desktop/Uni/Modules/Masters/Web Economics/project/dataset/test_predictions.csv</pre>"
      ],
      "text/plain": [
       "Finished parsing file /Users/Anish/Desktop/Uni/Modules/Masters/Web Economics/project/dataset/test_predictions.csv"
      ]
     },
     "metadata": {},
     "output_type": "display_data"
    },
    {
     "data": {
      "text/html": [
       "<pre>Parsing completed. Parsed 100 lines in 0.953982 secs.</pre>"
      ],
      "text/plain": [
       "Parsing completed. Parsed 100 lines in 0.953982 secs."
      ]
     },
     "metadata": {},
     "output_type": "display_data"
    },
    {
     "name": "stdout",
     "output_type": "stream",
     "text": [
      "------------------------------------------------------\n",
      "Inferred types from first 100 line(s) of file as \n",
      "column_type_hints=[int,int,str,int,str,str,str,int,int,str,str,str,str,str,int,int,str,str,int,str,str,int,str,float]\n",
      "If parsing fails due to incorrect types, you can correct\n",
      "the inferred type list above and pass it to read_csv in\n",
      "the column_type_hints argument\n",
      "------------------------------------------------------\n"
     ]
    },
    {
     "data": {
      "text/html": [
       "<pre>Read 184508 lines. Lines per second: 119525</pre>"
      ],
      "text/plain": [
       "Read 184508 lines. Lines per second: 119525"
      ]
     },
     "metadata": {},
     "output_type": "display_data"
    },
    {
     "data": {
      "text/html": [
       "<pre>Finished parsing file /Users/Anish/Desktop/Uni/Modules/Masters/Web Economics/project/dataset/test_predictions.csv</pre>"
      ],
      "text/plain": [
       "Finished parsing file /Users/Anish/Desktop/Uni/Modules/Masters/Web Economics/project/dataset/test_predictions.csv"
      ]
     },
     "metadata": {},
     "output_type": "display_data"
    },
    {
     "data": {
      "text/html": [
       "<pre>Parsing completed. Parsed 299749 lines in 2.1188 secs.</pre>"
      ],
      "text/plain": [
       "Parsing completed. Parsed 299749 lines in 2.1188 secs."
      ]
     },
     "metadata": {},
     "output_type": "display_data"
    }
   ],
   "source": [
    "predicted_data = gl.SFrame('test_predictions.csv')"
   ]
  },
  {
   "cell_type": "code",
   "execution_count": 7,
   "metadata": {
    "collapsed": false
   },
   "outputs": [
    {
     "name": "stdout",
     "output_type": "stream",
     "text": [
      "[0.000919352, 0.000919352, 0.000919352, 0.000919352, 0.000919352, 0.000919352, 0.000919352, 0.000919352, 0.000919352, 0.000919352]\n"
     ]
    }
   ],
   "source": [
    "predicted_data = predicted_data.sort('pctr', ascending=False)\n",
    "pctr = predicted_data['pctr']\n",
    "print pctr.head(10)"
   ]
  },
  {
   "cell_type": "code",
   "execution_count": 23,
   "metadata": {
    "collapsed": false
   },
   "outputs": [
    {
     "name": "stdout",
     "output_type": "stream",
     "text": [
      "+---------+------+-------------------------------+---------+-------------------+\n",
      "| weekday | hour |             bidid             | logtype |       userid      |\n",
      "+---------+------+-------------------------------+---------+-------------------+\n",
      "|    6    |  23  | dc5eaad21fca0833cb66417388... |    1    | u_VhkY15MAPH9VwsC |\n",
      "|    6    |  23  | 1c132e45c2ce1baeeedb9e0f08... |    1    | u_ZYF6ODpr3lqNeMB |\n",
      "|    6    |  23  | f330d23b27885a734f7eb46dfb... |    1    | u_VhkS13sq3lB83bE |\n",
      "|    6    |  23  | dd83ac9ab39d50109d8d239a21... |    1    | u_Vh1AZpTTPljIQOB |\n",
      "|    6    |  23  | 1b7c3dfb7955108eda904b7d8e... |    1    | u_Vhk71DKYP4BsFfa |\n",
      "+---------+------+-------------------------------+---------+-------------------+\n",
      "+----------------+---------------+--------+------+------------+\n",
      "|   useragent    |       IP      | region | city | adexchange |\n",
      "+----------------+---------------+--------+------+------------+\n",
      "|   windows_ie   | 221.227.131.* |   80   |  86  |     3      |\n",
      "|   windows_ie   |  120.192.0.*  |  146   | 147  |     2      |\n",
      "| windows_chrome | 182.150.228.* |  276   | 277  |     3      |\n",
      "|   windows_ie   | 218.203.163.* |  344   | 345  |     2      |\n",
      "|   windows_ie   |  60.209.14.*  |  146   | 148  |     1      |\n",
      "+----------------+---------------+--------+------+------------+\n",
      "+----------------------+-------------------------------+-------+\n",
      "|        domain        |              url              | urlid |\n",
      "+----------------------+-------------------------------+-------+\n",
      "|    31drTvprdN1RFt    | ff91ee09551ada687250cb907b... |  null |\n",
      "| tKFJeun0BouoXOl4JKTI | 58fce883fea402ee5f89837cc4... |  null |\n",
      "|    31xSTvprdN1RFt    | b7aabe084338ef8551f2fcb8ff... |  null |\n",
      "|   trqRTudaBok7FmMs   | a668709d14f07c7a2431864690... |  null |\n",
      "|    trqRTvFRLpscFU    | 17383108acc18a1884502149c3... |  null |\n",
      "+----------------------+-------------------------------+-------+\n",
      "+-----------------------------+-----------+------------+----------------+------------+\n",
      "|            slotid           | slotwidth | slotheight | slotvisibility | slotformat |\n",
      "+-----------------------------+-----------+------------+----------------+------------+\n",
      "|       Edu_F_Rectangle       |    300    |    250     |       0        |     0      |\n",
      "|          2247403976         |    728    |     90     |       1        |     0      |\n",
      "|         Ent_F_Width1        |    1000   |     90     |       0        |     0      |\n",
      "|          733696611          |    728    |     90     |       1        |     0      |\n",
      "| mm_10027070_2459574_9659312 |    160    |    600     |       2        |     1      |\n",
      "+-----------------------------+-----------+------------+----------------+------------+\n",
      "+-----------+-------------------------------+-------------------------------+\n",
      "| slotprice |            creative           |            keypage            |\n",
      "+-----------+-------------------------------+-------------------------------+\n",
      "|     31    | a499988a822facd86dd0e8e4ff... | bebefa5efe83beee17a3d245e7... |\n",
      "|     5     | 48f2e9ba15708c0146bda5e1dd... | bebefa5efe83beee17a3d245e7... |\n",
      "|     70    | 832b91d59d0cb5731431653204... | bebefa5efe83beee17a3d245e7... |\n",
      "|     5     | 48f2e9ba15708c0146bda5e1dd... | bebefa5efe83beee17a3d245e7... |\n",
      "|     0     | cb7c76e7784031272e37af8e7e... | bebefa5efe83beee17a3d245e7... |\n",
      "+-----------+-------------------------------+-------------------------------+\n",
      "+------------+-------------------------------+-------------+---------------+\n",
      "| advertiser |            usertag            |     pctr    |   bid_price   |\n",
      "+------------+-------------------------------+-------------+---------------+\n",
      "|    1458    |    10063,10006,10083,10110    | 0.000908325 | 206.009002248 |\n",
      "|    1458    |       13776,10075,10110       | 0.000908325 | 206.009002248 |\n",
      "|    1458    | 10006,14273,10024,10052,10... | 0.000908325 | 206.009002248 |\n",
      "|    1458    |       10057,10063,10110       | 0.000908325 | 206.009002248 |\n",
      "|    1458    |          13866,10111          | 0.000908325 | 206.009002248 |\n",
      "+------------+-------------------------------+-------------+---------------+\n",
      "[299749 rows x 25 columns]\n",
      "\n"
     ]
    }
   ],
   "source": [
    "base_bid = 171\n",
    "actr = train_data['click'].mean()\n",
    "bid_price = base_bid * pctr / actr\n",
    "predicted_data.add_column(bid_price, name='bid_price')\n",
    "predicted_data.print_rows(5,27)"
   ]
  },
  {
   "cell_type": "code",
   "execution_count": 29,
   "metadata": {
    "collapsed": false
   },
   "outputs": [
    {
     "name": "stdout",
     "output_type": "stream",
     "text": [
      "+-------------------------------+---------------+\n",
      "|             bidid             |   bid_price   |\n",
      "+-------------------------------+---------------+\n",
      "| dc5eaad21fca0833cb66417388... | 206.009002248 |\n",
      "| 1c132e45c2ce1baeeedb9e0f08... | 206.009002248 |\n",
      "| f330d23b27885a734f7eb46dfb... | 206.009002248 |\n",
      "| dd83ac9ab39d50109d8d239a21... | 206.009002248 |\n",
      "| 1b7c3dfb7955108eda904b7d8e... | 206.009002248 |\n",
      "+-------------------------------+---------------+\n",
      "[5 rows x 2 columns]\n",
      "\n"
     ]
    }
   ],
   "source": [
    "bids = predicted_data.select_columns(['bidid','bid_price'])\n",
    "print bids.head(5)"
   ]
  },
  {
   "cell_type": "code",
   "execution_count": 30,
   "metadata": {
    "collapsed": true
   },
   "outputs": [],
   "source": [
    "bids.rename({'bid_price':'bidprice'})\n",
    "bids.save('testing_bidding_price.csv', format='csv')"
   ]
  }
 ],
 "metadata": {
  "kernelspec": {
   "display_name": "Python 2",
   "language": "python",
   "name": "python2"
  },
  "language_info": {
   "codemirror_mode": {
    "name": "ipython",
    "version": 2
   },
   "file_extension": ".py",
   "mimetype": "text/x-python",
   "name": "python",
   "nbconvert_exporter": "python",
   "pygments_lexer": "ipython2",
   "version": "2.7.13"
  }
 },
 "nbformat": 4,
 "nbformat_minor": 0
}
